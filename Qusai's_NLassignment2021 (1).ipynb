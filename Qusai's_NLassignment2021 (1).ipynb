{
  "nbformat": 4,
  "nbformat_minor": 0,
  "metadata": {
    "colab": {
      "name": "Qusai's_NLassignment2021.ipynb",
      "provenance": [],
      "collapsed_sections": []
    },
    "kernelspec": {
      "display_name": "Python 3",
      "language": "python",
      "name": "python3"
    },
    "language_info": {
      "codemirror_mode": {
        "name": "ipython",
        "version": 3
      },
      "file_extension": ".py",
      "mimetype": "text/x-python",
      "name": "python",
      "nbconvert_exporter": "python",
      "pygments_lexer": "ipython3",
      "version": "3.7.4"
    }
  },
  "cells": [
    {
      "cell_type": "markdown",
      "metadata": {
        "id": "f2S8I2ny-ovS"
      },
      "source": [
        "# NLE Assignment: Sentiment Classification\n",
        "\n",
        "In this assignment, you will be investigating NLP methods for distinguishing positive and negative reviews written about movies.\n",
        "\n",
        "For assessment, you are expected to complete and submit this notebook file.  When answers require code, you may import and use library functions (unless explicitly told otherwise).  All of your own code should be included in the notebook rather than imported from elsewhere.  Written answers should also be included in the notebook.  You should insert as many extra cells as you want and change the type between code and markdown as appropriate.\n",
        "\n",
        "In order to avoid misconduct, you should not talk about the assignment questions with your peers.  If you are not sure what a question is asking you to do or have any other questions, please ask me or one of the Teaching Assistants.\n",
        "\n",
        "Marking guidelines are provided as a separate document.\n",
        "\n",
        "The first few cells contain code to set-up the assignment and bring in some data.   In order to provide unique datasets for analysis by different students, you must enter your candidate number in the following cell.  Otherwise do not change the code in these cells."
      ]
    },
    {
      "cell_type": "code",
      "metadata": {
        "id": "1gXQAZas-l9c"
      },
      "source": [
        "candidateno=244849 #this MUST be updated to your candidate number so that you get a unique data sample\n"
      ],
      "execution_count": 1,
      "outputs": []
    },
    {
      "cell_type": "code",
      "metadata": {
        "colab": {
          "base_uri": "https://localhost:8080/"
        },
        "id": "nk8JTP88A8vs",
        "outputId": "8b45c98e-ba3e-4190-ea28-583a64c330ea"
      },
      "source": [
        "#do not change the code in this cell\n",
        "#preliminary imports\n",
        "\n",
        "#set up nltk\n",
        "import nltk\n",
        "nltk.download('punkt')\n",
        "nltk.download('stopwords')\n",
        "nltk.download('movie_reviews')\n",
        "from nltk.corpus import stopwords\n",
        "from nltk.tokenize import word_tokenize\n",
        "from nltk.corpus import movie_reviews\n",
        "\n",
        "#for setting up training and testing data\n",
        "import random\n",
        "\n",
        "#useful other tools\n",
        "import re\n",
        "import pandas as pd\n",
        "import matplotlib.pyplot as plt\n",
        "%matplotlib inline\n",
        "from itertools import zip_longest\n",
        "from nltk.probability import FreqDist\n",
        "from nltk.classify.api import ClassifierI \n"
      ],
      "execution_count": 2,
      "outputs": [
        {
          "output_type": "stream",
          "name": "stdout",
          "text": [
            "[nltk_data] Downloading package punkt to /root/nltk_data...\n",
            "[nltk_data]   Package punkt is already up-to-date!\n",
            "[nltk_data] Downloading package stopwords to /root/nltk_data...\n",
            "[nltk_data]   Package stopwords is already up-to-date!\n",
            "[nltk_data] Downloading package movie_reviews to /root/nltk_data...\n",
            "[nltk_data]   Package movie_reviews is already up-to-date!\n"
          ]
        }
      ]
    },
    {
      "cell_type": "code",
      "metadata": {
        "id": "BHBkzAccCVaZ"
      },
      "source": [
        "#do not change the code in this cell\n",
        "def split_data(data, ratio=0.7): # when the second argument is not given, it defaults to 0.7\n",
        "    \"\"\"\n",
        "    Given corpus generator and ratio:\n",
        "     - partitions the corpus into training data and test data, where the proportion in train is ratio,\n",
        "\n",
        "    :param data: A corpus generator.\n",
        "    :param ratio: The proportion of training documents (default 0.7)\n",
        "    :return: a pair (tuple) of lists where the first element of the \n",
        "            pair is a list of the training data and the second is a list of the test data.\n",
        "    \"\"\"\n",
        "    \n",
        "    data = list(data)  \n",
        "    n = len(data)  \n",
        "    train_indices = random.sample(range(n), int(n * ratio))          \n",
        "    test_indices = list(set(range(n)) - set(train_indices))    \n",
        "    train = [data[i] for i in train_indices]           \n",
        "    test = [data[i] for i in test_indices]             \n",
        "    return (train, test)  \n",
        "\n",
        "#Applying some text preprocessing on our text\n",
        "\n",
        "stop = stopwords.words('english') #removing stopwords\n",
        "\n",
        "def normalise(wordlist):\n",
        "    lowered=[word.lower() for word in wordlist] #lowering uppercase\n",
        "    filtered=[word for word in lowered if word.isalpha() and word not in stop] # isalpha for words containing letter only\n",
        "    return filtered\n",
        "\n",
        "\n",
        "#now we can see that stopwords and punctuation are removed                     \n",
        " \n",
        "\n",
        "def get_train_test_data():\n",
        "    \n",
        "    #get ids of positive and negative movie reviews\n",
        "    pos_review_ids=movie_reviews.fileids('pos')\n",
        "    neg_review_ids=movie_reviews.fileids('neg')\n",
        "   \n",
        "    #split positive and negative data into training and testing sets\n",
        "    pos_train_ids, pos_test_ids = split_data(pos_review_ids)\n",
        "    neg_train_ids, neg_test_ids = split_data(neg_review_ids)\n",
        "    #add labels to the data and concatenate\n",
        "    training = [(movie_reviews.words(f),'pos') for f in pos_train_ids]+[(movie_reviews.words(f),'neg') for f in neg_train_ids]\n",
        "    testing = [(movie_reviews.words(f),'pos') for f in pos_test_ids]+[(movie_reviews.words(f),'neg') for f in neg_test_ids]\n",
        "    #now normalise and create bag-of-words FreqDist representations\n",
        "    training_norm=[(FreqDist(normalise(wordlist)),label) for (wordlist,label) in training]\n",
        "    testing_norm=[(FreqDist(normalise(wordlist)),label) for (wordlist,label) in testing]\n",
        "   \n",
        "    return training_norm, testing_norm"
      ],
      "execution_count": 3,
      "outputs": []
    },
    {
      "cell_type": "markdown",
      "metadata": {
        "id": "1N3LWwBYICPP"
      },
      "source": [
        "When you have run the cell below, your unique training and testing samples will be stored in `training_data` and `testing_data`"
      ]
    },
    {
      "cell_type": "code",
      "metadata": {
        "colab": {
          "base_uri": "https://localhost:8080/"
        },
        "id": "HJLegkdPFUJA",
        "outputId": "6a0a1118-29d4-4b58-db1e-55691e8aee46"
      },
      "source": [
        "#do not change the code in this cell\n",
        "random.seed(candidateno)\n",
        "training_data,testing_data=get_train_test_data()\n",
        "print(\"The amount of training data is {}\".format(len(training_data)))\n",
        "print(\"The amount of testing data is {}\".format(len(testing_data)))\n",
        "print(\"The representation of a single data item is below\")\n",
        "print(training_data[0])"
      ],
      "execution_count": 4,
      "outputs": [
        {
          "output_type": "stream",
          "name": "stdout",
          "text": [
            "The amount of training data is 1400\n",
            "The amount of testing data is 600\n",
            "The representation of a single data item is below\n",
            "(FreqDist({'hopkins': 3, 'granger': 2, 'hearts': 2, 'atlantis': 2, 'timing': 2, 'seems': 2, 'right': 2, 'drama': 2, 'power': 2, 'bobby': 2, ...}), 'pos')\n"
          ]
        }
      ]
    },
    {
      "cell_type": "markdown",
      "metadata": {
        "id": "MHoKCl6yoML8"
      },
      "source": [
        "1)  \n",
        "a) **Generate** a list of 10 content words which are representative of the positive reviews in your training data.\n",
        "\n",
        "b) **Generate** a list of 10 content words which are representative of the negative reviews in your training data.\n",
        "\n",
        "c) **Explain** what you have done and why\n",
        "\n",
        "[20\\%]"
      ]
    },
    {
      "cell_type": "code",
      "metadata": {
        "colab": {
          "base_uri": "https://localhost:8080/"
        },
        "id": "-8KJ1TSxRquu",
        "outputId": "3a044786-8d62-4f0e-b1ed-93314024b77f"
      },
      "source": [
        "#checking how many positive and negative reviews we have using fileids method\n",
        "pos_review_ids=movie_reviews.fileids('pos')\n",
        "neg_review_ids=movie_reviews.fileids('neg')\n",
        "\n",
        "print(f'we have {len(pos_review_ids)} positive reviews')\n",
        "print(f'we have {len(neg_review_ids)} negative reviews ')\n",
        "\n",
        "#so our data is equally split between positive and negative reviews"
      ],
      "execution_count": 5,
      "outputs": [
        {
          "output_type": "stream",
          "name": "stdout",
          "text": [
            "we have 1000 positive reviews\n",
            "we have 1000 negative reviews \n"
          ]
        }
      ]
    },
    {
      "cell_type": "code",
      "metadata": {
        "id": "Xzq0KStlZJzm"
      },
      "source": [
        "#Here I am trying to seperate the words that are frequently used in both positive and negative reviews into two seperate frequency distributions.\n",
        "\n",
        "pos_freq_dist=FreqDist()\n",
        "neg_freq_dist=FreqDist()\n",
        "\n",
        "for reviewDist,label in training_data:\n",
        "    if label=='pos':\n",
        "        pos_freq_dist+=reviewDist\n",
        "    else:\n",
        "        neg_freq_dist+=reviewDist\n",
        "        \n",
        "#This function returns the words with the highest frequency for positive and negative reviews \n",
        "\n",
        "def most_frequent_words(posfreq,negfreq,topk):\n",
        "    difference=posfreq-negfreq\n",
        "    sorteddiff=difference.most_common()\n",
        "    justwords=[word for (word,freq) in sorteddiff[:topk]]\n",
        "    return justwords\n",
        "\n"
      ],
      "execution_count": 6,
      "outputs": []
    },
    {
      "cell_type": "code",
      "metadata": {
        "colab": {
          "base_uri": "https://localhost:8080/"
        },
        "id": "PvRlsZ_Qd6hE",
        "outputId": "0a3dbe41-b6ea-49de-f7e9-8bae37134a77"
      },
      "source": [
        "#These are the most 100 frequent postive reviews\n",
        "top_pos=most_frequent_words(pos_freq_dist,neg_freq_dist,100)\n",
        "print(top_pos)"
      ],
      "execution_count": 7,
      "outputs": [
        {
          "output_type": "stream",
          "name": "stdout",
          "text": [
            "['film', 'life', 'also', 'great', 'story', 'well', 'best', 'world', 'films', 'many', 'love', 'american', 'family', 'new', 'performance', 'one', 'first', 'character', 'man', 'see', 'although', 'quite', 'seen', 'war', 'may', 'star', 'way', 'young', 'true', 'time', 'black', 'still', 'makes', 'jackie', 'job', 'perfect', 'years', 'us', 'yet', 'disney', 'gives', 'different', 'music', 'father', 'good', 'mother', 'wonderful', 'titanic', 'especially', 'ending', 'human', 'always', 'back', 'sense', 'dark', 'men', 'wars', 'day', 'beautiful', 'alien', 'excellent', 'right', 'performances', 'takes', 'truman', 'oscar', 'john', 'history', 'however', 'strong', 'effective', 'characters', 'fiction', 'final', 'become', 'trek', 'without', 'others', 'memorable', 'cameron', 'several', 'political', 'son', 'throughout', 'heart', 'classic', 'city', 'works', 'hilarious', 'times', 'sometimes', 'horror', 'tale', 'voice', 'relationship', 'often', 'feel', 'friends', 'aliens', 'two']\n"
          ]
        }
      ]
    },
    {
      "cell_type": "code",
      "metadata": {
        "colab": {
          "base_uri": "https://localhost:8080/"
        },
        "id": "Yfu1J1XueAUD",
        "outputId": "71eb8bd7-fa9d-4a8f-ab0f-fb79cd6c8edd"
      },
      "source": [
        "#These are the most 100 frequent negative reviews\n",
        "\n",
        "top_neg=most_frequent_words(neg_freq_dist,pos_freq_dist,100)\n",
        "print(top_neg)"
      ],
      "execution_count": 8,
      "outputs": [
        {
          "output_type": "stream",
          "name": "stdout",
          "text": [
            "['movie', 'bad', 'plot', 'even', 'nothing', 'worst', 'get', 'script', 'boring', 'action', 'stupid', 'batman', 'harry', 'looks', 'better', 'guy', 'could', 'godzilla', 'least', 'supposed', 'big', 'reason', 'unfortunately', 'maybe', 'minutes', 'worse', 'mess', 'seagal', 'think', 'dull', 'waste', 'minute', 'dialogue', 'attempt', 'bunch', 'terrible', 'thing', 'ridiculous', 'awful', 'tv', 'fails', 'problem', 'trying', 'wasted', 'pretty', 'tries', 'lame', 'predictable', 'poor', 'team', 'snake', 'arnold', 'spice', 'poorly', 'know', 'might', 'robin', 'spawn', 'jokes', 'sex', 'video', 'girls', 'b', 'give', 'every', 'like', 'talent', 'got', 'car', 'pointless', 'none', 'save', 'guess', 'obvious', 'someone', 'cage', 'annoying', 'mars', 'going', 'attempts', 'name', 'damme', 'project', 'thriller', 'rest', 'watching', 'called', 'lines', 'paul', 'bland', 'budget', 'anyway', 'schumacher', 'west', 'kill', 'filmmakers', 'sequel', 'horrible', 'joke', 'course']\n"
          ]
        }
      ]
    },
    {
      "cell_type": "code",
      "metadata": {
        "id": "sYQgLL2XetH0"
      },
      "source": [
        "#Now we pick our words in relation to the top 50 positive and negative words appearing in the reviews \n",
        "my_positive_words_list=['great','best','love','well','prefect','good','beautiful','excellent','hilarious','oscar']\n",
        "my_negative_words_list=['bad','worst','stupid','least','boring','mess','waste','terrible','awful','ridiculous']"
      ],
      "execution_count": 9,
      "outputs": []
    },
    {
      "cell_type": "markdown",
      "metadata": {
        "id": "6JElxJ0uqvRx"
      },
      "source": [
        "#Question 1)C)Explaining my code\n",
        "###First Step\n",
        "After the data was split into training and testing, a normalize function was applied on the data to remove any stopwords,apply lower case to all ofthe words(i.e remove any capitalized words) and only leave alphabetical charachters, which means we get rid of numerical values as they don't concern us in the sentiment reviewing process.\n",
        "\n",
        "###Second step\n",
        "After the normalizatoin function was applied, another function was built to seperate the most repetitive or used words into negative and positive, these then were put into two seperate frequency distributions.Finally I picked out 10 random words from these frequency distributions and put them into two seperate lists which will represent my words for both negative and positive reviews. "
      ]
    },
    {
      "cell_type": "markdown",
      "metadata": {
        "id": "TApOQE6vND20"
      },
      "source": [
        "2) \n",
        "a) **Use** the lists generated in Q1 to build a **word list classifier** which will classify reviews as being positive or negative.\n",
        "\n",
        "b) **Explain** what you have done.\n",
        "\n",
        "[12.5\\%]\n"
      ]
    },
    {
      "cell_type": "code",
      "metadata": {
        "id": "BThDMrcmODJy",
        "colab": {
          "base_uri": "https://localhost:8080/",
          "height": 35
        },
        "outputId": "080aba74-0bd1-4264-de14-4237bee495b3"
      },
      "source": [
        "#Question 2)a)\n",
        "#building my word list classifier \n",
        "\n",
        "class SimpleClassifier(ClassifierI): \n",
        "\n",
        "    def __init__(self, pos, neg): \n",
        "        self._pos = pos \n",
        "        self._neg = neg \n",
        "\n",
        "    def classify(self, doc): \n",
        "        score = 0\n",
        "        for word,value in doc.items():\n",
        "            if word in self._pos:\n",
        "                score+=value\n",
        "            if word in self._neg:\n",
        "                score-=value\n",
        "        \n",
        "        return \"neg\" if score < 0 else \"pos\"  \n",
        "\n",
        "    def labels(self): \n",
        "        return (\"pos\", \"neg\")\n",
        "\n",
        "\n",
        "classifier = SimpleClassifier(my_positive_words_list, my_negative_words_list)\n",
        "classifier.classify(FreqDist(\"The movie was bad\".split()))"
      ],
      "execution_count": 10,
      "outputs": [
        {
          "output_type": "execute_result",
          "data": {
            "application/vnd.google.colaboratory.intrinsic+json": {
              "type": "string"
            },
            "text/plain": [
              "'neg'"
            ]
          },
          "metadata": {},
          "execution_count": 10
        }
      ]
    },
    {
      "cell_type": "code",
      "metadata": {
        "id": "WYE7y3AQ9D-z"
      },
      "source": [
        "class SimpleClassifier_mf(SimpleClassifier):\n",
        "    \n",
        "    def __init__(self,k):\n",
        "        self._k=k\n",
        "    \n",
        "    def train(self,training_data):\n",
        "        \n",
        "        pos_freq_dist=FreqDist()\n",
        "        neg_freq_dist=FreqDist()\n",
        "\n",
        "        for reviewDist,label in training_data:\n",
        "            if label=='pos':\n",
        "                pos_freq_dist+=reviewDist\n",
        "            else:\n",
        "                neg_freq_dist+=reviewDist\n",
        "                \n",
        "        self._pos=most_frequent_words(pos_freq_dist,neg_freq_dist,self._k)\n",
        "        self._neg=most_frequent_words(neg_freq_dist,pos_freq_dist,self._k)\n",
        "\n",
        "classifier_mf=SimpleClassifier_mf(100)\n",
        "classifier_mf.train(training_data)"
      ],
      "execution_count": 11,
      "outputs": []
    },
    {
      "cell_type": "code",
      "metadata": {
        "colab": {
          "base_uri": "https://localhost:8080/",
          "height": 35
        },
        "id": "Rwtb_4jt-QM0",
        "outputId": "2d5b902c-2214-476e-cce6-47721541d8f2"
      },
      "source": [
        "classifier_mf.classify(FreqDist('The movie was bad'.split()))"
      ],
      "execution_count": 12,
      "outputs": [
        {
          "output_type": "execute_result",
          "data": {
            "application/vnd.google.colaboratory.intrinsic+json": {
              "type": "string"
            },
            "text/plain": [
              "'neg'"
            ]
          },
          "metadata": {},
          "execution_count": 12
        }
      ]
    },
    {
      "cell_type": "markdown",
      "metadata": {
        "id": "ORP4kUa2oMMC"
      },
      "source": [
        "### Question 2)b)\n",
        "\n",
        "###FirstStep:\n",
        "\n",
        "First thing done was building the word list classifier using OOP method, the class SimpleClassifier takes a positive word list and a negative one to train itself , which are the lists generated in Question one. Then the classify method classifies words into negative and positive and either decrements or increments the score based on the classification of the word, so if score<0 classifier returns a negative result, else it returns a positive result, in that case the score>0 and the review is positive .\n",
        "\n",
        "###Second Step:    \n",
        "\n",
        "After that a Simple Classifier_mf was build which inherets from the SimpleClassifier that was built before, the only difference is that this classifier takes chunks from the training data to train, and then puts the words into two frequency distributions in accordance with the label of the review itself either it was positive or negative, instead of relying on the lists generated in question one to train itself. This classifier will be used mainly in the last question to compare it's outcomes with the NLTK naive bayes classifier.And ofcourse both classifiers were tested using the classify method to predict wether a given review given as a frequency distribution (bag of words representation) was either positive or negative."
      ]
    },
    {
      "cell_type": "markdown",
      "metadata": {
        "id": "JpHuMRkUoMMC"
      },
      "source": [
        "3)\n",
        "a) **Calculate** the accuracy, precision, recall and F1 score of your classifier.\n",
        "\n",
        "b) Is it reasonable to evaluate the classifier in terms of its accuracy?  **Explain** your answer and give a counter-example (a scenario where it would / would not be reasonable to evaluate the classifier in terms of its accuracy).\n",
        "\n",
        "[20\\%]"
      ]
    },
    {
      "cell_type": "code",
      "metadata": {
        "id": "bsjs4vcOoMMD",
        "colab": {
          "base_uri": "https://localhost:8080/"
        },
        "outputId": "4dc9458f-3522-4047-c381-42ba8b5377b4"
      },
      "source": [
        "#calculating Accuracy of SimpleClassifier \n",
        "def classifier_evaluate(cls, test_data):\n",
        "    acc = 0\n",
        "    docs,goldstandard=zip(*test_data)\n",
        "    predictions=cls.classify_many(docs)\n",
        "    for prediction,goldlabel in zip(predictions,goldstandard):\n",
        "        if prediction==goldlabel:\n",
        "            acc+=1\n",
        "    \n",
        "    return acc / (len(test_data))\n",
        "\n",
        "score=classifier_evaluate(classifier,testing_data)\n",
        "print(score)\n",
        "print(testing_data)"
      ],
      "execution_count": 13,
      "outputs": [
        {
          "output_type": "stream",
          "name": "stdout",
          "text": [
            "0.615\n",
            "[(FreqDist({'tribe': 8, 'krippendorf': 6, 'shelmikedmu': 4, 'film': 4, 'seem': 3, 'however': 3, 'one': 3, 'professor': 3, 'kids': 3, 'humor': 3, ...}), 'pos'), (FreqDist({'hilary': 5, 'musicians': 4, 'watson': 4, 'script': 4, 'movie': 3, 'one': 3, 'together': 3, 'jackie': 3, 'griffiths': 3, 'du': 3, ...}), 'pos'), (FreqDist({'jackie': 10, 'like': 9, 'chan': 8, 'got': 4, 'one': 4, 'money': 4, 'sanders': 4, 'condor': 4, 'movie': 4, 'nazi': 4, ...}), 'pos'), (FreqDist({'comedy': 4, 'romantic': 3, 'grant': 3, 'notting': 2, 'hill': 2, 'roberts': 2, 'anna': 2, 'actress': 2, 'one': 2, 'spike': 2, ...}), 'pos'), (FreqDist({'movie': 10, 'one': 5, 'film': 5, 'x': 4, 'files': 4, 'cave': 4, 'texas': 4, 'mulder': 4, 'even': 4, 'truth': 4, ...}), 'pos'), (FreqDist({'alda': 11, 'ringwald': 8, 'lapaglia': 7, 'film': 6, 'wedding': 5, 'sheedy': 5, 'one': 4, 'comic': 4, 'performance': 4, 'betsy': 3, ...}), 'pos'), (FreqDist({'lee': 11, 'martial': 10, 'arts': 10, 'two': 5, 'movies': 5, 'skills': 4, 'although': 4, 'scenes': 4, 'one': 3, 'could': 3, ...}), 'pos'), (FreqDist({'george': 12, 'life': 10, 'film': 10, 'movie': 10, 'time': 7, 'christmas': 6, 'good': 5, 'however': 5, 'clarence': 5, 'family': 5, ...}), 'pos'), (FreqDist({'bobby': 8, 'ted': 4, 'carol': 3, 'movie': 3, 'hearts': 3, 'stand': 3, 'yelchin': 2, 'lives': 2, 'small': 2, 'davis': 2, ...}), 'pos'), (FreqDist({'matron': 6, 'film': 4, 'sid': 4, 'james': 4, 'pills': 3, 'hospital': 3, 'kenneth': 3, 'williams': 3, 'bernard': 3, 'jacques': 3, ...}), 'pos'), (FreqDist({'van': 6, 'damme': 6, 'rodman': 4, 'movie': 4, 'action': 3, 'good': 3, 'get': 3, 'quinn': 3, 'one': 3, 'like': 3, ...}), 'pos'), (FreqDist({'grodin': 8, 'heartbreak': 5, 'kid': 5, 'character': 5, 'charles': 3, 'sheppard': 3, 'time': 3, 'film': 3, 'cybill': 2, 'one': 2, ...}), 'pos'), (FreqDist({'stretch': 14, 'spoon': 13, 'gridlock': 9, 'get': 8, 'shakur': 7, 'eyes': 6, 'drug': 5, 'hall': 5, 'police': 3, 'characters': 3, ...}), 'pos'), (FreqDist({'snatch': 6, 'brick': 5, 'top': 5, 'mickey': 5, 'diamond': 4, 'irish': 4, 'ritchie': 4, 'london': 4, 'characters': 4, 'two': 3, ...}), 'pos'), (FreqDist({'witch': 15, 'blair': 14, 'film': 12, 'project': 8, 'first': 8, 'sequel': 5, 'movie': 5, 'woods': 5, 'book': 4, 'different': 4, ...}), 'pos'), (FreqDist({'movie': 10, 'characters': 10, 'one': 9, 'film': 9, 'obi': 8, 'wan': 8, 'qui': 7, 'gon': 7, 'young': 7, 'lucas': 7, ...}), 'pos'), (FreqDist({'film': 9, 'veronica': 9, 'love': 8, 'venice': 7, 'marco': 7, 'dangerous': 6, 'beauty': 6, 'herskovitz': 5, 'including': 5, 'like': 4, ...}), 'pos'), (FreqDist({'film': 7, 'sex': 5, 'lies': 4, 'videotape': 4, 'john': 4, 'probably': 4, 'soderbergh': 3, 'ann': 3, 'macdowell': 3, 'gallagher': 3, ...}), 'pos'), (FreqDist({'film': 11, 'mm': 10, 'welles': 7, 'snuff': 5, 'one': 5, 'private': 4, 'detective': 4, 'violence': 4, 'man': 4, 'world': 3, ...}), 'pos'), (FreqDist({'movie': 11, 'star': 7, 'wars': 7, 'jedi': 6, 'get': 5, 'see': 4, 'far': 4, 'phantom': 4, 'menace': 4, 'know': 4, ...}), 'pos'), (FreqDist({'life': 4, 'less': 4, 'ordinary': 4, 'film': 4, 'movie': 3, 'somewhat': 3, 'definitely': 3, 'comes': 2, 'people': 2, 'call': 2, ...}), 'pos'), (FreqDist({'thing': 10, 'hanks': 7, 'film': 5, 'nice': 4, 'wonders': 3, 'days': 3, 'tom': 2, 'moment': 2, 'becomes': 2, 'nostalgia': 2, ...}), 'pos'), (FreqDist({'doctor': 11, 'would': 6, 'master': 5, 'movie': 5, 'time': 4, 'series': 4, 'daleks': 4, 'good': 4, 'role': 4, 'lot': 3, ...}), 'pos'), (FreqDist({'one': 11, 'life': 8, 'burnham': 7, 'lester': 6, 'carolyn': 6, 'performance': 6, 'film': 5, 'daughter': 5, 'man': 5, 'growing': 5, ...}), 'pos'), (FreqDist({'movie': 8, 'tunnel': 7, 'disaster': 6, 'good': 6, 'stallone': 6, 'daylight': 5, 'acting': 5, 'one': 5, 'think': 4, 'fun': 4, ...}), 'pos'), (FreqDist({'spencer': 14, 'cy': 11, 'cyborsuit': 10, 'kids': 6, 'like': 5, 'kid': 5, 'one': 5, 'show': 4, 'eyes': 3, 'way': 3, ...}), 'pos'), (FreqDist({'mulan': 12, 'movie': 7, 'disney': 6, 'good': 5, 'man': 5, 'army': 5, 'like': 4, 'best': 3, 'china': 3, 'ever': 3, ...}), 'pos'), (FreqDist({'film': 13, 'comedy': 7, 'goodman': 7, 'like': 6, 'would': 5, 'one': 5, 'many': 4, 'story': 4, 'john': 3, 'teenagers': 3, ...}), 'pos'), (FreqDist({'movie': 4, 'new': 3, 'exley': 3, 'us': 3, 'three': 3, 'become': 3, 'truth': 3, 'mystery': 3, 'cops': 3, 'smith': 2, ...}), 'pos'), (FreqDist({'house': 3, 'made': 3, 'bunch': 3, 'go': 3, 'animal': 2, 'movie': 2, 'trying': 2, 'frat': 2, 'going': 2, 'goes': 2, ...}), 'pos'), (FreqDist({'damon': 10, 'young': 6, 'grisham': 5, 'rainmaker': 5, 'good': 5, 'hunting': 5, 'john': 4, 'rudy': 4, 'actor': 3, 'mcconaughey': 3, ...}), 'pos'), (FreqDist({'earth': 9, 'shanta': 8, 'muslim': 6, 'dil': 6, 'navaz': 6, 'india': 5, 'men': 5, 'hindu': 4, 'sikh': 4, 'country': 3, ...}), 'pos'), (FreqDist({'travolta': 7, 'pulp': 4, 'fiction': 4, 'get': 4, 'shorty': 4, 'hackman': 4, 'movie': 4, 'career': 3, 'along': 3, 'contract': 3, ...}), 'pos'), (FreqDist({'film': 12, 'french': 7, 'movie': 6, 'little': 5, 'many': 5, 'one': 4, 'much': 4, 'year': 4, 'way': 4, 'guy': 3, ...}), 'pos'), (FreqDist({'film': 6, 'pauline': 5, 'beach': 4, 'characters': 3, 'eric': 2, 'rohmer': 2, 'happens': 2, 'wise': 2, 'old': 2, 'come': 2, ...}), 'pos'), (FreqDist({'life': 8, 'even': 6, 'frears': 5, 'rob': 5, 'right': 4, 'music': 4, 'much': 4, 'film': 4, 'big': 3, 'musical': 3, ...}), 'pos'), (FreqDist({'great': 3, 'animated': 2, 'boring': 2, 'long': 2, 'disney': 1, 'feature': 1, 'retooling': 1, 'olympian': 1, 'legend': 1, 'crossed': 1, ...}), 'pos'), (FreqDist({'tampopo': 10, 'food': 7, 'something': 7, 'film': 6, 'family': 6, 'eat': 5, 'scene': 5, 'shop': 5, 'goro': 5, 'bowl': 4, ...}), 'pos'), (FreqDist({'matrix': 8, 'world': 5, 'film': 5, 'like': 4, 'high': 4, 'neo': 4, 'questions': 4, 'weaving': 4, 'many': 3, 'films': 3, ...}), 'pos'), (FreqDist({'pignon': 5, 'job': 3, 'granger': 2, 'closet': 2, 'daniel': 2, 'condom': 2, 'factory': 2, 'belone': 2, 'man': 2, 'gay': 2, ...}), 'pos'), (FreqDist({'maximus': 7, 'film': 7, 'commodus': 6, 'reed': 6, 'gladiator': 6, 'able': 4, 'sequence': 4, 'digital': 4, 'roman': 3, 'emperor': 3, ...}), 'pos'), (FreqDist({'studio': 5, 'shane': 5, 'rubell': 5, 'film': 4, 'disco': 3, 'club': 3, 'good': 3, 'myers': 3, 'one': 3, 'big': 3, ...}), 'pos'), (FreqDist({'like': 11, 'movies': 6, 'film': 6, 'done': 5, 'way': 5, 'orlock': 5, 'hutter': 5, 'really': 4, 'count': 4, 'horror': 4, ...}), 'pos'), (FreqDist({'robocop': 13, 'movie': 8, 'ocp': 6, 'one': 5, 'weller': 5, 'plot': 5, 'peter': 4, 'nancy': 4, 'allen': 4, 'first': 3, ...}), 'pos'), (FreqDist({'kubrick': 7, 'film': 6, 'eyes': 5, 'wide': 5, 'sex': 5, 'shut': 4, 'cast': 4, 'wife': 4, 'cruise': 4, 'kidman': 4, ...}), 'pos'), (FreqDist({'flynt': 31, 'larry': 15, 'film': 14, 'people': 7, 'vs': 7, 'love': 6, 'althea': 6, 'freedom': 5, 'speech': 5, 'first': 4, ...}), 'pos'), (FreqDist({'davis': 7, 'action': 5, 'kiss': 4, 'long': 3, 'well': 3, 'first': 3, 'jackson': 3, 'work': 3, 'goodnight': 2, 'streep': 2, ...}), 'pos'), (FreqDist({'sleepy': 9, 'hollow': 9, 'film': 6, 'movies': 6, 'walker': 5, 'movie': 5, 'one': 5, 'kevin': 4, 'burton': 4, 'depp': 4, ...}), 'pos'), (FreqDist({'jackie': 25, 'master': 18, 'drunken': 17, 'arts': 11, 'films': 11, 'martial': 10, 'chan': 10, 'hong': 10, 'kung': 10, 'fu': 10, ...}), 'pos'), (FreqDist({'carter': 22, 'washington': 10, 'film': 7, 'prison': 6, 'actors': 5, 'see': 5, 'denzel': 4, 'hurricane': 4, 'life': 4, 'white': 4, ...}), 'pos'), (FreqDist({'hamlet': 9, 'romantic': 5, 'zeffirelli': 5, 'shakespeare': 4, 'ever': 3, 'whose': 3, 'without': 3, 'note': 2, 'film': 2, 'franco': 2, ...}), 'pos'), (FreqDist({'blade': 15, 'vampire': 11, 'movie': 9, 'vampires': 7, 'one': 5, 'style': 3, 'well': 3, 'story': 3, 'get': 3, 'fun': 3, ...}), 'pos'), (FreqDist({'film': 11, 'carrey': 7, 'truman': 5, 'show': 5, 'perfect': 4, 'christoff': 4, 'also': 4, 'hour': 3, 'harris': 3, 'burbank': 3, ...}), 'pos'), (FreqDist({'francie': 7, 'film': 4, 'owens': 3, 'one': 3, 'hand': 3, 'difficult': 3, 'yet': 3, 'know': 3, 'jordan': 2, 'another': 2, ...}), 'pos'), (FreqDist({'nookey': 9, 'hawtrey': 5, 'carry': 4, 'dr': 4, 'stoppidge': 4, 'drug': 4, 'medical': 3, 'james': 3, 'carver': 3, 'head': 3, ...}), 'pos'), (FreqDist({'death': 11, 'destination': 11, 'final': 9, 'film': 9, 'one': 7, 'plane': 7, 'making': 4, 'mind': 3, 'even': 3, 'genre': 3, ...}), 'pos'), (FreqDist({'good': 4, 'blues': 4, 'problems': 4, 'john': 3, 'really': 3, 'music': 3, 'brothers': 2, 'sing': 2, 'another': 2, 'film': 2, ...}), 'pos'), (FreqDist({'shrek': 12, 'film': 11, 'voice': 6, 'back': 4, 'animated': 4, 'best': 4, 'lord': 4, 'farquaad': 4, 'many': 4, 'great': 4, ...}), 'pos'), (FreqDist({'henderson': 9, 'war': 8, 'sarajevo': 5, 'america': 5, 'one': 5, 'group': 5, 'horror': 4, 'world': 4, 'picture': 4, 'mother': 4, ...}), 'pos'), (FreqDist({'smith': 19, 'film': 7, 'also': 5, 'kevin': 4, 'dogma': 4, 'god': 4, 'dogmatic': 4, 'much': 4, 'like': 3, 'humor': 3, ...}), 'pos'), (FreqDist({'harry': 6, 'cast': 5, 'twilight': 5, 'film': 5, 'newman': 3, 'hackman': 3, 'sarandon': 3, 'former': 3, 'lot': 3, 'noir': 2, ...}), 'pos'), (FreqDist({'carlito': 14, 'depalma': 7, 'way': 7, 'story': 5, 'pacino': 4, 'penn': 4, 'life': 4, 'kleinfeld': 4, 'two': 3, 'years': 3, ...}), 'pos'), (FreqDist({'footloose': 3, 'bacon': 3, 'lithgow': 3, 'one': 2, 'feel': 2, 'town': 2, 'dancing': 2, 'daughter': 2, 'singer': 2, 'cast': 2, ...}), 'pos'), (FreqDist({'crazy': 5, 'beautiful': 5, 'carlos': 5, 'enough': 3, 'nicole': 3, 'damned': 2, 'story': 2, 'afterschool': 2, 'special': 2, 'young': 2, ...}), 'pos'), (FreqDist({'back': 7, 'marty': 7, 'future': 5, 'film': 5, 'movies': 3, 'everything': 3, 'ii': 2, 'one': 2, 'spirit': 2, 'chase': 2, ...}), 'pos'), (FreqDist({'grady': 6, 'first': 5, 'life': 5, 'much': 4, 'people': 3, 'time': 3, 'professor': 3, 'second': 3, 'day': 3, 'student': 3, ...}), 'pos'), (FreqDist({'fallen': 8, 'like': 7, 'film': 6, 'hobbes': 6, 'washington': 6, 'body': 5, 'azazel': 5, 'plot': 5, 'however': 5, 'one': 4, ...}), 'pos'), (FreqDist({'war': 7, 'three': 5, 'kings': 5, 'film': 4, 'movie': 3, 'light': 3, 'mood': 3, 'action': 3, 'another': 2, 'version': 2, ...}), 'pos'), (FreqDist({'mouse': 13, 'hunt': 4, 'although': 4, 'lane': 4, 'evans': 4, 'one': 4, 'family': 3, 'two': 3, 'lars': 3, 'movie': 3, ...}), 'pos'), (FreqDist({'school': 6, 'odin': 6, 'hugo': 5, 'high': 4, 'team': 4, 'also': 4, 'shakespeare': 3, 'things': 3, 'hate': 3, 'desi': 3, ...}), 'pos'), (FreqDist({'man': 8, 'father': 8, 'person': 5, 'like': 4, 'towards': 3, 'wade': 3, 'nolte': 3, 'see': 3, 'kind': 3, 'coburn': 3, ...}), 'pos'), (FreqDist({'game': 16, 'film': 11, 'douglas': 9, 'one': 7, 'nicholas': 7, 'character': 6, 'fincher': 5, 'another': 5, 'best': 5, 'almost': 5, ...}), 'pos'), (FreqDist({'film': 10, 'mary': 8, 'something': 5, 'know': 5, 'see': 4, 'could': 4, 'great': 4, 'farrelly': 4, 'ted': 4, 'one': 4, ...}), 'pos'), (FreqDist({'film': 9, 'wag': 6, 'dog': 6, 'brean': 6, 'president': 6, 'motss': 6, 'war': 6, 'quite': 5, 'political': 5, 'american': 5, ...}), 'pos'), (FreqDist({'sonny': 10, 'church': 6, 'film': 6, 'go': 5, 'apostle': 5, 'duvall': 5, 'god': 4, 'like': 4, 'preacher': 3, 'minister': 3, ...}), 'pos'), (FreqDist({'chicken': 15, 'run': 12, 'movie': 9, 'one': 8, 'seen': 7, 'chickens': 7, 'park': 7, 'like': 5, 'film': 5, 'even': 5, ...}), 'pos'), (FreqDist({'beaumarchais': 12, 'movie': 6, 'one': 5, 'may': 5, 'time': 3, 'would': 3, 'scoundrel': 3, 'plays': 3, 'good': 3, 'story': 3, ...}), 'pos'), (FreqDist({'dante': 5, 'peak': 5, 'volcano': 4, 'least': 3, 'would': 3, 'disaster': 2, 'cliched': 2, 'film': 2, 'actual': 2, 'decent': 2, ...}), 'pos'), (FreqDist({'batman': 15, 'joker': 9, 'keaton': 6, 'nicholson': 6, 'look': 5, 'movie': 4, 'dark': 4, 'film': 4, 'burton': 4, 'cast': 3, ...}), 'pos'), (FreqDist({'ben': 10, 'forces': 7, 'nature': 7, 'something': 5, 'sarah': 5, 'make': 4, 'like': 3, 'romantic': 3, 'comedy': 3, 'romance': 3, ...}), 'pos'), (FreqDist({'film': 18, 'nuclear': 16, 'war': 14, 'groeteschele': 12, 'fail': 11, 'safe': 11, 'one': 8, 'would': 6, 'world': 5, 'communism': 5, ...}), 'pos'), (FreqDist({'starship': 7, 'troopers': 7, 'johnny': 6, 'high': 4, 'alien': 4, 'patrick': 3, 'like': 3, 'infantry': 3, 'good': 3, 'numerous': 3, ...}), 'pos'), (FreqDist({'genetically': 10, 'film': 10, 'jerome': 9, 'vincent': 8, 'life': 8, 'perfect': 6, 'gattaca': 6, 'man': 6, 'actually': 5, 'people': 5, ...}), 'pos'), (FreqDist({'film': 9, 'chucky': 9, 'child': 8, 'horror': 8, 'doll': 8, 'play': 7, 'one': 7, 'almost': 5, 'like': 5, 'even': 4, ...}), 'pos'), (FreqDist({'urban': 5, 'legend': 5, 'one': 5, 'credit': 4, 'films': 3, 'turns': 3, 'though': 3, 'problem': 3, 'last': 2, 'genre': 2, ...}), 'pos'), (FreqDist({'family': 13, 'indian': 7, 'wedding': 4, 'film': 4, 'films': 4, 'like': 4, 'mira': 3, 'nair': 3, 'us': 3, 'together': 3, ...}), 'pos'), (FreqDist({'rushmore': 5, 'max': 4, 'film': 4, 'schwartzman': 4, 'anderson': 3, 'plays': 3, 'blume': 3, 'murray': 3, 'role': 2, 'written': 2, ...}), 'pos'), (FreqDist({'film': 11, 'thin': 6, 'red': 6, 'line': 6, 'malick': 5, 'plot': 5, 'nature': 4, 'see': 3, 'cast': 3, 'performance': 3, ...}), 'pos'), (FreqDist({'van': 7, 'dorn': 7, 'schrader': 7, 'one': 6, 'film': 6, 'like': 4, 'kristen': 4, 'porno': 4, 'two': 4, 'audience': 4, ...}), 'pos'), (FreqDist({'douglas': 9, 'one': 5, 'detective': 5, 'film': 4, 'really': 4, 'kirk': 3, 'quite': 3, 'movie': 3, 'work': 3, 'would': 3, ...}), 'pos'), (FreqDist({'film': 10, 'bad': 4, 'things': 4, 'friends': 4, 'robert': 4, 'much': 4, 'movie': 3, 'five': 3, 'wedding': 3, 'diaz': 3, ...}), 'pos'), (FreqDist({'rules': 8, 'homer': 7, 'larch': 6, 'life': 5, 'dr': 4, 'many': 4, 'matter': 3, 'caine': 3, 'world': 3, 'go': 3, ...}), 'pos'), (FreqDist({'mummy': 12, 'film': 6, 'evelyn': 5, 'egypt': 5, 'like': 5, 'ancient': 5, 'one': 5, 'always': 4, 'special': 4, 'effects': 4, ...}), 'pos'), (FreqDist({'toy': 16, 'toys': 16, 'story': 9, 'one': 9, 'film': 8, 'movie': 7, 'andy': 7, 'disney': 6, 'pixar': 5, 'buzz': 5, ...}), 'pos'), (FreqDist({'disney': 6, 'egypt': 4, 'story': 4, 'animation': 3, 'one': 3, 'dreamworks': 3, 'prince': 3, 'also': 3, 'moses': 3, 'pharaoh': 3, ...}), 'pos'), (FreqDist({'movie': 8, 'like': 5, 'rock': 3, 'roll': 3, 'streets': 3, 'great': 3, 'plot': 3, 'ellen': 3, 'gang': 3, 'fable': 2, ...}), 'pos'), (FreqDist({'mulan': 19, 'army': 9, 'disney': 8, 'family': 6, 'china': 5, 'dragon': 5, 'movie': 5, 'old': 4, 'father': 4, 'mushu': 4, ...}), 'pos'), (FreqDist({'kat': 11, 'one': 9, 'bianca': 9, 'teen': 6, 'things': 6, 'hate': 6, 'film': 6, 'movie': 5, 'cameron': 5, 'characters': 5, ...}), 'pos'), (FreqDist({'marquis': 8, 'de': 7, 'sade': 7, 'abbe': 3, 'quills': 3, 'rush': 2, 'madeleine': 2, 'royer': 2, 'collard': 2, 'cell': 2, ...}), 'pos'), (FreqDist({'gay': 10, 'howard': 8, 'one': 7, 'seems': 5, 'high': 5, 'greenleaf': 5, 'comedy': 4, 'quite': 4, 'teacher': 4, 'cameron': 4, ...}), 'pos'), (FreqDist({'script': 4, 'crew': 4, 'reynolds': 4, 'great': 4, 'acting': 3, 'dreyfuss': 3, 'burt': 3, 'four': 3, 'wiseguys': 3, 'hedaya': 3, ...}), 'pos'), (FreqDist({'film': 20, 'little': 17, 'mermaid': 17, 'disney': 13, 'one': 8, 'animation': 8, 'mr': 7, 'animated': 6, 'voice': 6, 'release': 5, ...}), 'pos'), (FreqDist({'world': 7, 'one': 6, 'town': 5, 'pleasantville': 4, 'film': 4, 'movie': 4, 'see': 3, 'message': 3, 'life': 3, 'back': 3, ...}), 'pos'), (FreqDist({'ellie': 9, 'even': 7, 'contact': 5, 'film': 5, 'one': 5, 'palmer': 5, 'effects': 4, 'time': 4, 'zemeckis': 4, 'new': 4, ...}), 'pos'), (FreqDist({'guido': 14, 'benigni': 7, 'son': 7, 'holocaust': 5, 'life': 4, 'story': 4, 'camp': 4, 'beautiful': 3, 'love': 3, 'slapstick': 3, ...}), 'pos'), (FreqDist({'flynt': 17, 'larry': 10, 'althea': 7, 'film': 5, 'story': 4, 'love': 4, 'look': 3, 'much': 3, 'drugs': 3, 'taking': 3, ...}), 'pos'), (FreqDist({'reality': 9, 'thirteenth': 8, 'floor': 8, 'virtual': 7, 'world': 6, 'film': 6, 'almost': 5, 'matrix': 5, 'dark': 4, 'city': 4, ...}), 'pos'), (FreqDist({'henry': 14, 'film': 5, 'see': 4, 'work': 3, 'shows': 3, 'scene': 3, 'movie': 3, 'way': 2, 'new': 2, 'killed': 2, ...}), 'pos'), (FreqDist({'film': 8, 'mary': 6, 'would': 6, 'sweet': 4, 'farrelly': 3, 'brothers': 3, 'funny': 3, 'laugh': 3, 'comedy': 3, 'raunchy': 3, ...}), 'pos'), (FreqDist({'film': 11, 'one': 9, 'civil': 7, 'action': 7, 'courtroom': 6, 'travolta': 6, 'performance': 6, 'big': 5, 'always': 5, 'duvall': 5, ...}), 'pos'), (FreqDist({'truman': 15, 'people': 8, 'show': 8, 'life': 6, 'probably': 4, 'know': 3, 'carrey': 3, 'day': 3, 'even': 3, 'director': 3, ...}), 'pos'), (FreqDist({'one': 5, 'film': 4, 'jacob': 3, 'thorton': 3, 'better': 3, 'simple': 3, 'raimi': 3, 'picture': 3, 'think': 3, 'flowing': 3, ...}), 'pos'), (FreqDist({'babe': 27, 'city': 21, 'film': 20, 'pig': 18, 'one': 9, 'first': 8, 'original': 8, 'many': 7, 'best': 7, 'new': 7, ...}), 'pos'), (FreqDist({'kilmer': 10, 'movie': 6, 'saint': 5, 'character': 4, 'would': 4, 'tretiak': 4, 'one': 4, 'shue': 4, 'energy': 4, 'actually': 3, ...}), 'pos'), (FreqDist({'film': 14, 'matrix': 10, 'sound': 7, 'one': 5, 'good': 5, 'times': 4, 'effects': 4, 'many': 4, 'computer': 4, 'spend': 4, ...}), 'pos'), (FreqDist({'li': 10, 'jet': 6, 'film': 6, 'bad': 5, 'one': 5, 'movie': 5, 'thing': 4, 'ass': 4, 'looking': 4, 'action': 4, ...}), 'pos'), (FreqDist({'doubtfire': 12, 'williams': 9, 'mrs': 9, 'daniel': 9, 'miranda': 7, 'one': 5, 'robin': 4, 'children': 3, 'makeup': 3, 'never': 2, ...}), 'pos'), (FreqDist({'crowe': 8, 'film': 8, 'ryan': 5, 'one': 4, 'story': 4, 'character': 4, 'david': 4, 'proof': 3, 'life': 3, 'russell': 3, ...}), 'pos'), (FreqDist({'john': 7, 'romantic': 5, 'sara': 5, 'serendipity': 4, 'thing': 4, 'funny': 3, 'film': 3, 'maybe': 3, 'time': 3, 'characters': 3, ...}), 'pos'), (FreqDist({'simon': 7, 'two': 7, 'birch': 5, 'joe': 5, 'johnson': 4, 'movie': 2, 'band': 2, 'far': 2, 'much': 2, 'means': 2, ...}), 'pos'), (FreqDist({'borrowers': 7, 'family': 5, 'effects': 3, 'potter': 3, 'house': 3, 'lenders': 3, 'clock': 3, 'well': 3, 'children': 2, 'made': 2, ...}), 'pos'), (FreqDist({'movie': 11, 'jay': 9, 'silent': 8, 'bob': 8, 'strike': 5, 'back': 5, 'smith': 5, 'humor': 4, 'year': 4, 'film': 4, ...}), 'pos'), (FreqDist({'film': 5, 'rampling': 4, 'marie': 4, 'excellent': 3, 'ozon': 3, 'fine': 3, 'much': 2, 'would': 2, 'sand': 2, 'thanks': 2, ...}), 'pos'), (FreqDist({'chan': 6, 'rush': 4, 'hour': 4, 'tucker': 4, 'chinese': 3, 'well': 3, 'problem': 2, 'hours': 2, 'clones': 2, 'another': 2, ...}), 'pos'), (FreqDist({'lola': 14, 'run': 13, 'film': 6, 'visual': 5, 'fate': 3, 'minutes': 3, 'time': 3, 'tykwer': 3, 'one': 3, 'dazzling': 2, ...}), 'pos'), (FreqDist({'egoyan': 9, 'town': 9, 'film': 9, 'hereafter': 8, 'bus': 8, 'children': 8, 'sweet': 7, 'stephens': 7, 'tragedy': 5, 'lost': 5, ...}), 'pos'), (FreqDist({'film': 10, 'message': 5, 'boyle': 3, 'bored': 3, 'local': 3, 'characters': 3, 'camera': 3, 'across': 3, 'energy': 2, 'kind': 2, ...}), 'pos'), (FreqDist({'tran': 5, 'three': 4, 'hung': 4, 'day': 3, 'sisters': 3, 'writer': 3, 'anh': 3, 'vertical': 3, 'ray': 3, 'sun': 3, ...}), 'pos'), (FreqDist({'bubby': 18, 'world': 8, 'mother': 7, 'father': 5, 'boy': 4, 'de': 4, 'heer': 4, 'becomes': 4, 'life': 3, 'apartment': 3, ...}), 'pos'), (FreqDist({'one': 7, 'radio': 6, 'contact': 5, 'foster': 5, 'allie': 5, 'world': 4, 'film': 4, 'sci': 3, 'fi': 3, 'late': 3, ...}), 'pos'), (FreqDist({'film': 24, 'aliens': 20, 'alien': 11, 'one': 11, 'ripley': 10, 'action': 9, 'cameron': 8, 'never': 6, 'ever': 5, 'weaver': 5, ...}), 'pos'), (FreqDist({'action': 6, 'liner': 4, 'jason': 4, 'patrick': 4, 'speed': 3, 'time': 3, 'willem': 3, 'dafoe': 3, 'director': 2, 'make': 2, ...}), 'pos'), (FreqDist({'henry': 7, 'film': 6, 'queen': 5, 'king': 4, 'carry': 3, 'sims': 3, 'cardinal': 3, 'cromwell': 3, 'sir': 3, 'roger': 3, ...}), 'pos'), (FreqDist({'rico': 10, 'cowboy': 8, 'new': 4, 'york': 4, 'film': 4, 'money': 3, 'place': 3, 'dumb': 2, 'darn': 2, 'good': 2, ...}), 'pos'), (FreqDist({'shakespeare': 24, 'film': 10, 'love': 9, 'play': 7, 'movie': 7, 'one': 6, 'stoppard': 5, 'also': 5, 'work': 5, 'scenes': 5, ...}), 'pos'), (FreqDist({'big': 3, 'eden': 3, 'granger': 2, 'away': 2, 'general': 2, 'store': 2, 'time': 2, 'young': 2, 'much': 2, 'henry': 2, ...}), 'pos'), (FreqDist({'town': 8, 'one': 8, 'story': 7, 'mitchell': 7, 'book': 5, 'egoyan': 5, 'bus': 4, 'children': 4, 'never': 4, 'billy': 4, ...}), 'pos'), (FreqDist({'mob': 13, 'lang': 9, 'deputy': 9, 'shot': 7, 'joe': 6, 'audience': 6, 'camera': 6, 'human': 5, 'viewer': 4, 'towards': 4, ...}), 'pos'), (FreqDist({'race': 5, 'cleese': 5, 'one': 4, 'laughs': 3, 'rat': 3, 'little': 3, 'comedy': 3, 'group': 3, 'locker': 3, 'first': 3, ...}), 'pos'), (FreqDist({'film': 8, 'original': 6, 'mitch': 5, 'like': 5, 'stern': 4, 'station': 3, 'played': 3, 'would': 3, 'characters': 3, 'jokes': 3, ...}), 'pos'), (FreqDist({'david': 10, 'spielberg': 5, 'boy': 5, 'lost': 4, 'robots': 4, 'monica': 4, 'film': 4, 'kubrick': 3, 'would': 3, 'love': 3, ...}), 'pos'), (FreqDist({'grease': 7, 'still': 5, 'danny': 5, 'sandy': 5, 'one': 5, 'musical': 3, 'moments': 3, 'john': 3, 'nights': 3, 'word': 2, ...}), 'pos'), (FreqDist({'bug': 12, 'life': 11, 'bugs': 8, 'flick': 7, 'movies': 5, 'antz': 5, 'story': 5, 'also': 5, 'world': 4, 'find': 4, ...}), 'pos'), (FreqDist({'scream': 15, 'one': 7, 'movie': 7, 'film': 6, 'sidney': 5, 'gale': 5, 'randy': 4, 'stab': 4, 'films': 3, 'best': 3, ...}), 'pos'), (FreqDist({'life': 6, 'film': 6, 'george': 4, 'one': 4, 'near': 3, 'capra': 3, 'classic': 3, 'wonderful': 3, 'first': 3, 'frank': 2, ...}), 'pos'), (FreqDist({'wild': 7, 'lombardo': 7, 'things': 6, 'kelly': 6, 'movie': 4, 'suzie': 4, 'part': 3, 'dillon': 3, 'blue': 3, 'richards': 3, ...}), 'pos'), (FreqDist({'truman': 7, 'show': 7, 'movie': 6, 'film': 4, 'going': 3, 'nothing': 3, 'decade': 2, 'breakthrough': 2, 'leading': 2, 'changed': 2, ...}), 'pos'), (FreqDist({'ford': 7, 'heche': 6, 'quinn': 5, 'six': 4, 'days': 4, 'seven': 4, 'nights': 4, 'movie': 4, 'fluff': 4, 'robin': 4, ...}), 'pos'), (FreqDist({'carlito': 16, 'great': 10, 'pacino': 9, 'film': 8, 'way': 6, 'like': 5, 'de': 5, 'palma': 5, 'well': 5, 'good': 4, ...}), 'pos'), (FreqDist({'faith': 6, 'brian': 6, 'jacob': 6, 'keeping': 5, 'norton': 5, 'one': 4, 'comedy': 4, 'romantic': 4, 'anna': 4, 'priest': 3, ...}), 'pos'), (FreqDist({'anna': 8, 'king': 7, 'mongkut': 6, 'foster': 5, 'love': 4, 'british': 3, 'chow': 3, 'yun': 3, 'fat': 3, 'film': 3, ...}), 'pos'), (FreqDist({'scream': 18, 'film': 9, 'first': 7, 'two': 6, 'horror': 5, 'movie': 4, 'well': 4, 'years': 4, 'movies': 4, 'sequels': 3, ...}), 'pos'), (FreqDist({'argento': 4, 'jennifer': 3, 'school': 3, 'murder': 2, 'mystery': 2, 'form': 2, 'gift': 2, 'insects': 2, 'bizarre': 2, 'director': 2, ...}), 'pos'), (FreqDist({'movie': 7, 'depp': 7, 'thompson': 6, 'film': 5, 'johnny': 5, 'two': 4, 'drug': 4, 'picture': 4, 'much': 4, 'apparently': 3, ...}), 'pos'), (FreqDist({'spielberg': 8, 'film': 8, 'slaves': 6, 'one': 4, 'africans': 4, 'ship': 4, 'free': 3, 'amistad': 3, 'various': 3, 'united': 3, ...}), 'pos'), (FreqDist({'film': 11, 'anderson': 9, 'characters': 8, 'one': 7, 'character': 7, 'magnolia': 6, 'different': 4, 'flower': 3, 'movie': 3, 'connected': 3, ...}), 'pos'), (FreqDist({'movie': 4, 'wife': 4, 'kathy': 4, 'completly': 3, 'life': 3, 'fred': 3, 'kids': 3, 'apartment': 3, 'always': 3, 'four': 3, ...}), 'pos'), (FreqDist({'cynthia': 12, 'film': 7, 'hortense': 7, 'lies': 6, 'maurice': 5, 'way': 4, 'one': 4, 'leigh': 3, 'see': 3, 'secrets': 3, ...}), 'pos'), (FreqDist({'crisis': 8, 'world': 7, 'cuba': 6, 'us': 6, 'president': 6, 'costner': 6, 'donnell': 6, 'nuclear': 5, 'soviet': 5, 'missiles': 5, ...}), 'pos'), (FreqDist({'sonny': 18, 'duvall': 11, 'apostle': 6, 'always': 5, 'even': 4, 'fact': 4, 'film': 4, 'character': 4, 'preacher': 4, 'preachers': 4, ...}), 'pos'), (FreqDist({'movie': 6, 'powers': 6, 'austin': 5, 'even': 5, 'like': 4, 'time': 4, 'back': 4, 'dr': 4, 'evil': 4, 'comedy': 3, ...}), 'pos'), (FreqDist({'hill': 4, 'film': 3, 'war': 3, 'hamburger': 3, 'almost': 2, 'spielberg': 2, 'private': 2, 'ryan': 2, 'could': 2, 'anti': 2, ...}), 'pos'), (FreqDist({'truman': 11, 'show': 8, 'film': 5, 'audience': 4, 'life': 4, 'still': 2, 'films': 2, 'would': 2, 'see': 2, 'really': 2, ...}), 'pos'), (FreqDist({'film': 14, 'excellent': 8, 'like': 5, 'boogie': 5, 'nights': 5, 'great': 5, 'writing': 4, 'really': 4, 'minutes': 3, 'eddie': 3, ...}), 'pos'), (FreqDist({'movie': 7, 'yet': 6, 'war': 5, 'shannon': 5, 'almost': 4, 'whose': 4, 'dogs': 4, 'life': 4, 'action': 4, 'script': 4, ...}), 'pos'), (FreqDist({'movie': 6, 'comedy': 5, 'mobster': 5, 'deniro': 5, 'crystal': 5, 'character': 3, 'kudrow': 3, 'quick': 2, 'analyze': 2, 'romp': 2, ...}), 'pos'), (FreqDist({'film': 15, 'friend': 14, 'wedding': 14, 'best': 13, 'julianne': 11, 'roberts': 10, 'michael': 10, 'comedy': 8, 'ms': 6, 'even': 6, ...}), 'pos'), (FreqDist({'ship': 7, 'love': 7, 'film': 5, 'titanic': 5, 'primitive': 4, 'social': 4, 'cameron': 4, 'first': 4, 'rose': 4, 'jack': 4, ...}), 'pos'), (FreqDist({'film': 16, 'like': 11, 'armageddon': 8, 'action': 7, 'films': 6, 'bay': 6, 'story': 6, 'characters': 5, 'good': 4, 'effects': 4, ...}), 'pos'), (FreqDist({'woody': 19, 'toy': 16, 'buzz': 10, 'story': 8, 'al': 7, 'andy': 6, 'toys': 6, 'first': 6, 'movie': 5, 'one': 4, ...}), 'pos'), (FreqDist({'blue': 7, 'velvet': 7, 'film': 7, 'lynch': 6, 'maclachlan': 6, 'hard': 4, 'hopper': 4, 'make': 3, 'story': 3, 'weird': 3, ...}), 'pos'), (FreqDist({'judith': 10, 'film': 8, 'one': 6, 'living': 5, 'pat': 4, 'loud': 3, 'see': 3, 'hunter': 3, 'life': 3, 'happy': 3, ...}), 'pos'), (FreqDist({'felix': 6, 'oscar': 4, 'matthau': 3, 'lemmon': 3, 'neil': 3, 'simon': 3, 'comedy': 3, 'men': 3, 'one': 3, 'best': 3, ...}), 'pos'), (FreqDist({'paulie': 20, 'bird': 9, 'parrot': 5, 'get': 5, 'marie': 5, 'home': 4, 'little': 4, 'mohr': 4, 'like': 4, 'human': 4, ...}), 'pos'), (FreqDist({'october': 8, 'sky': 7, 'film': 7, 'homer': 6, 'boys': 6, 'uplifting': 4, 'dream': 3, 'coalwood': 3, 'chris': 3, 'however': 3, ...}), 'pos'), (FreqDist({'movie': 7, 'chris': 6, 'good': 5, 'one': 4, 'well': 4, 'roxbury': 4, 'scene': 4, 'whose': 3, 'head': 3, 'script': 3, ...}), 'pos'), (FreqDist({'movie': 7, 'film': 6, 'hollywood': 6, 'one': 5, 'hong': 5, 'kong': 5, 'action': 5, 'thing': 4, 'maximum': 4, 'risk': 4, ...}), 'pos'), (FreqDist({'one': 10, 'faculty': 9, 'film': 6, 'rodriguez': 4, 'williamson': 4, 'characters': 4, 'school': 4, 'everyone': 4, 'although': 4, 'since': 4, ...}), 'pos'), (FreqDist({'characters': 5, 'atom': 5, 'egoyan': 5, 'one': 4, 'sweet': 4, 'hereafter': 4, 'sarajevo': 3, 'war': 3, 'winterbottom': 2, 'backdrop': 2, ...}), 'pos'), (FreqDist({'fellini': 15, 'film': 12, 'even': 10, 'characters': 9, 'amarcord': 7, 'one': 6, 'rimini': 5, 'could': 4, 'popular': 4, 'italian': 4, ...}), 'pos'), (FreqDist({'film': 7, 'javert': 5, 'les': 4, 'miserables': 4, 'valjean': 4, 'well': 4, 'novel': 3, 'though': 3, 'many': 3, 'story': 3, ...}), 'pos'), (FreqDist({'ellie': 10, 'contact': 9, 'film': 6, 'zemeckis': 5, 'space': 5, 'life': 4, 'effects': 4, 'right': 3, 'foster': 3, 'much': 3, ...}), 'pos'), (FreqDist({'korben': 6, 'leeloo': 6, 'element': 5, 'wrong': 4, 'fifth': 4, 'elements': 4, 'evil': 4, 'willis': 3, 'time': 3, 'besson': 3, ...}), 'pos'), (FreqDist({'movie': 8, 'film': 7, 'family': 7, 'space': 4, 'really': 3, 'evil': 3, 'sci': 3, 'fi': 3, 'little': 3, 'special': 3, ...}), 'pos'), (FreqDist({'travis': 10, 'taxi': 7, 'driver': 6, 'times': 5, 'new': 5, 'many': 5, 'movie': 5, 'life': 5, 'like': 5, 'even': 5, ...}), 'pos'), (FreqDist({'film': 13, 'ronna': 10, 'story': 8, 'every': 5, 'characters': 5, 'simon': 5, 'time': 4, 'part': 4, 'two': 4, 'theory': 4, ...}), 'pos'), (FreqDist({'galaxy': 8, 'quest': 8, 'star': 7, 'trek': 6, 'nesmith': 5, 'show': 4, 'parody': 3, 'never': 3, 'fans': 3, 'one': 3, ...}), 'pos'), (FreqDist({'kids': 7, 'film': 6, 'one': 5, 'children': 4, 'movie': 4, 'parents': 4, 'get': 4, 'scenes': 4, 'dog': 4, 'would': 4, ...}), 'pos'), (FreqDist({'even': 7, 'really': 7, 'waiting': 4, 'guffman': 4, 'get': 4, 'play': 4, 'think': 3, 'least': 3, 'funny': 3, 'levy': 3, ...}), 'pos'), (FreqDist({'jackie': 12, 'tarantino': 10, 'brown': 9, 'jackson': 6, 'ordell': 6, 'pulp': 5, 'fiction': 5, 'robert': 5, 'grier': 5, 'three': 4, ...}), 'pos'), (FreqDist({'one': 18, 'film': 17, 'killer': 15, 'kiss': 11, 'girls': 11, 'character': 8, 'cross': 7, 'freeman': 7, 'scene': 7, 'many': 7, ...}), 'pos'), (FreqDist({'film': 8, 'mamet': 6, 'ross': 6, 'like': 5, 'spanish': 4, 'prisoner': 4, 'viewer': 4, 'noticed': 3, 'even': 3, 'character': 3, ...}), 'pos'), (FreqDist({'film': 16, 'series': 10, 'show': 7, 'fans': 7, 'x': 6, 'files': 6, 'story': 5, 'find': 4, 'television': 4, 'actually': 4, ...}), 'pos'), (FreqDist({'brooks': 11, 'film': 7, 'muse': 6, 'stone': 4, 'albert': 3, 'still': 3, 'comedy': 3, 'screenwriter': 3, 'real': 3, 'directors': 3, ...}), 'pos'), (FreqDist({'full': 5, 'monty': 5, 'movie': 3, 'show': 3, 'great': 3, 'fun': 2, 'oscar': 2, 'nominations': 2, 'million': 2, 'film': 2, ...}), 'pos'), (FreqDist({'film': 13, 'vampire': 6, 'blade': 4, 'razor': 3, 'smile': 3, 'lilith': 3, 'bad': 3, 'really': 3, 'laugh': 3, 'played': 2, ...}), 'pos'), (FreqDist({'green': 5, 'mile': 5, 'one': 4, 'healing': 4, 'paul': 3, 'death': 3, 'coffey': 3, 'never': 3, 'mr': 3, 'spiritual': 3, ...}), 'pos'), (FreqDist({'film': 5, 'kingpin': 4, 'world': 4, 'evil': 3, 'seen': 3, 'creates': 3, 'like': 3, 'best': 2, 'good': 2, 'bennet': 2, ...}), 'pos'), (FreqDist({'alex': 8, 'plane': 5, 'death': 5, 'horror': 3, 'one': 3, 'carter': 3, 'devon': 2, 'sawa': 2, 'trip': 2, 'vision': 2, ...}), 'pos'), (FreqDist({'film': 16, 'jackie': 13, 'ordell': 12, 'pulp': 10, 'fiction': 10, 'tarantino': 10, 'movie': 6, 'good': 6, 'grier': 6, 'jackson': 6, ...}), 'pos'), (FreqDist({'jerry': 7, 'penn': 4, 'black': 3, 'killer': 3, 'lori': 3, 'pledge': 3, 'nicholson': 2, 'becomes': 2, 'gas': 2, 'station': 2, ...}), 'pos'), (FreqDist({'mamet': 10, 'one': 6, 'film': 5, 'heist': 5, 'get': 4, 'plot': 4, 'joe': 4, 'going': 3, 'story': 3, 'double': 3, ...}), 'pos'), (FreqDist({'grease': 10, 'movie': 9, 'one': 5, 'travolta': 4, 'musical': 4, 'musicals': 4, 'easy': 3, 'become': 3, 'let': 3, 'audiences': 3, ...}), 'pos'), (FreqDist({'film': 12, 'virgil': 11, 'first': 9, 'sight': 9, 'amy': 9, 'since': 7, 'awakenings': 4, 'begins': 4, 'sorvino': 4, 'kilmer': 4, ...}), 'pos'), (FreqDist({'new': 2, 'desperado': 2, 'rodriguez': 2, 'much': 2, 'fun': 2, 'laughs': 2, 'let': 1, 'face': 1, 'since': 1, 'waterworld': 1, ...}), 'pos'), (FreqDist({'quaid': 9, 'good': 9, 'mars': 7, 'one': 5, 'played': 4, 'film': 4, 'goes': 4, 'action': 4, 'bad': 4, 'schwarzenegger': 3, ...}), 'pos'), (FreqDist({'movie': 11, 'tarantino': 11, 'dusk': 6, 'till': 6, 'dawn': 6, 'clooney': 6, 'lewis': 5, 'keitel': 4, 'half': 3, 'get': 3, ...}), 'pos'), (FreqDist({'scream': 14, 'movie': 7, 'original': 6, 'sidney': 6, 'horror': 5, 'craven': 5, 'stab': 5, 'one': 4, 'two': 4, 'little': 4, ...}), 'pos'), (FreqDist({'beau': 8, 'reese': 8, 'mom': 4, 'margaret': 4, 'becomes': 4, 'swinton': 3, 'lake': 3, 'body': 3, 'visnjic': 3, 'deep': 3, ...}), 'pos'), (FreqDist({'film': 13, 'mary': 12, 'ted': 10, 'something': 6, 'stiller': 5, 'trailer': 4, 'time': 4, 'even': 4, 'good': 4, 'one': 4, ...}), 'pos'), (FreqDist({'movie': 10, 'spacey': 8, 'eastwood': 4, 'one': 4, 'good': 4, 'cusack': 4, 'clint': 3, 'midnight': 3, 'garden': 3, 'best': 3, ...}), 'pos'), (FreqDist({'spice': 14, 'girls': 11, 'film': 8, 'like': 6, 'world': 5, 'fun': 5, 'melanie': 4, 'great': 3, 'music': 3, 'well': 3, ...}), 'pos'), (FreqDist({'briggs': 11, 'greenfingers': 5, 'like': 4, 'prison': 4, 'hershman': 3, 'owen': 3, 'fergus': 3, 'men': 3, 'movie': 3, 'come': 3, ...}), 'pos'), (FreqDist({'bianca': 8, 'katarina': 6, 'shrew': 4, 'high': 4, 'cameron': 4, 'joey': 4, 'shakespeare': 3, 'like': 3, 'school': 3, 'reminder': 3, ...}), 'pos'), (FreqDist({'scorsese': 3, 'dalai': 3, 'lama': 3, 'political': 3, 'kundun': 2, 'life': 2, 'buddhist': 2, 'china': 2, 'way': 2, 'interesting': 2, ...}), 'pos'), (FreqDist({'film': 5, 'penn': 4, 'seems': 3, 'story': 3, 'brothers': 3, 'message': 2, 'sean': 2, 'grown': 2, 'movie': 2, 'struggle': 2, ...}), 'pos'), (FreqDist({'elizabeth': 9, 'much': 5, 'well': 4, 'queen': 4, 'though': 3, 'films': 3, 'characters': 3, 'england': 3, 'would': 3, 'film': 3, ...}), 'pos'), (FreqDist({'muriel': 13, 'wedding': 5, 'collette': 5, 'hogan': 4, 'marriage': 3, 'performance': 3, 'film': 3, 'bill': 3, 'australia': 2, 'heslop': 2, ...}), 'pos'), (FreqDist({'princess': 15, 'caraboo': 11, 'worrall': 6, 'film': 4, 'takes': 4, 'social': 4, 'mrs': 4, 'woman': 3, 'john': 3, 'gutch': 3, ...}), 'pos'), (FreqDist({'alex': 7, 'well': 6, 'plane': 6, 'film': 5, 'final': 4, 'destination': 4, 'even': 4, 'never': 4, 'life': 3, 'horror': 3, ...}), 'pos'), (FreqDist({'mike': 10, 'like': 5, 'friends': 4, 'swingers': 3, 'get': 3, 'want': 2, 'badly': 2, 'bad': 2, 'six': 2, 'comedian': 2, ...}), 'pos'), (FreqDist({'rumpo': 8, 'carry': 7, 'marshall': 6, 'kid': 5, 'film': 5, 'city': 4, 'sheriff': 4, 'part': 4, 'james': 3, 'stodge': 3, ...}), 'pos'), (FreqDist({'rosalba': 4, 'husband': 3, 'granger': 2, 'bread': 2, 'tulips': 2, 'first': 2, 'licia': 2, 'maglietta': 2, 'finds': 2, 'venice': 2, ...}), 'pos'), (FreqDist({'everything': 5, 'mikey': 4, 'lives': 4, 'say': 4, 'even': 4, 'think': 4, 'one': 4, 'clean': 3, 'wood': 3, 'ice': 3, ...}), 'pos'), (FreqDist({'warriors': 9, 'movie': 8, 'hill': 6, 'future': 5, 'like': 5, 'youth': 5, 'plot': 4, 'despite': 4, 'walter': 4, 'action': 4, ...}), 'pos'), (FreqDist({'truman': 19, 'film': 6, 'cams': 6, 'show': 5, 'carrey': 5, 'best': 5, 'wife': 5, 'world': 5, 'town': 4, 'weir': 4, ...}), 'pos'), (FreqDist({'movie': 7, 'beavis': 4, 'butthead': 4, 'show': 4, 'tv': 3, 'wants': 3, 'keep': 3, 'first': 2, 'like': 2, 'go': 2, ...}), 'pos'), (FreqDist({'film': 8, 'also': 8, 'one': 7, 'dillon': 5, 'really': 5, 'farrelly': 4, 'found': 4, 'funny': 4, 'scenes': 4, 'like': 4, ...}), 'pos'), (FreqDist({'film': 5, 'kids': 5, 'one': 4, 'good': 3, 'really': 3, 'movie': 3, 'predictable': 3, 'another': 3, 'bad': 2, 'single': 2, ...}), 'pos'), (FreqDist({'cop': 16, 'one': 13, 'like': 11, 'film': 8, 'lumet': 7, 'movie': 6, 'gritty': 5, 'prince': 5, 'city': 5, 'would': 5, ...}), 'pos'), (FreqDist({'film': 9, 'two': 9, 'vincent': 8, 'man': 6, 'tarantino': 5, 'men': 5, 'jules': 5, 'time': 4, 'dialogue': 4, 'butch': 4, ...}), 'pos'), (FreqDist({'whale': 23, 'film': 11, 'boone': 10, 'life': 7, 'man': 7, 'much': 6, 'one': 6, 'director': 5, 'gods': 4, 'monsters': 4, ...}), 'pos'), (FreqDist({'lynch': 9, 'film': 9, 'lost': 7, 'highway': 7, 'mystery': 7, 'fred': 6, 'arquette': 4, 'man': 4, 'one': 4, 'pete': 4, ...}), 'pos'), (FreqDist({'film': 18, 'blake': 12, 'two': 10, 'mr': 10, 'guy': 9, 'girls': 8, 'one': 8, 'carla': 7, 'toback': 6, 'downey': 6, ...}), 'pos'), (FreqDist({'film': 15, 'sex': 11, 'car': 10, 'one': 9, 'people': 9, 'porn': 8, 'scene': 8, 'james': 8, 'pretty': 7, 'another': 7, ...}), 'pos'), (FreqDist({'cookie': 9, 'fortune': 5, 'movie': 5, 'altman': 4, 'good': 4, 'southern': 4, 'willie': 4, 'camille': 4, 'time': 4, 'robert': 3, ...}), 'pos'), (FreqDist({'end': 5, 'film': 5, 'world': 4, 'know': 4, 'people': 4, 'sun': 3, 'toronto': 2, 'final': 2, 'mckellar': 2, 'characters': 2, ...}), 'pos'), (FreqDist({'exotica': 14, 'movie': 8, 'people': 7, 'becomes': 6, 'proverbial': 6, 'first': 5, 'means': 5, 'dancer': 5, 'part': 4, 'plot': 4, ...}), 'pos'), (FreqDist({'chan': 9, 'rush': 8, 'hour': 8, 'carter': 7, 'tucker': 6, 'film': 5, 'time': 5, 'lee': 5, 'jackie': 4, 'first': 4, ...}), 'pos'), (FreqDist({'fox': 9, 'movie': 5, 'like': 5, 'alvarado': 5, 'peter': 4, 'frighteners': 4, 'dobson': 4, 'jackson': 3, 'year': 3, 'hour': 3, ...}), 'pos'), (FreqDist({'movie': 5, 'kramer': 3, 'garner': 3, 'one': 3, 'glance': 2, 'two': 2, 'together': 2, 'exactly': 2, 'quick': 2, 'lemmon': 2, ...}), 'pos'), (FreqDist({'one': 5, 'put': 4, 'film': 4, 'really': 4, 'much': 4, 'even': 4, 'movie': 4, 'dude': 3, 'trucker': 3, 'long': 3, ...}), 'pos'), (FreqDist({'wyatt': 5, 'story': 5, 'like': 5, 'earp': 4, 'scene': 4, 'little': 3, 'three': 3, 'law': 3, 'looking': 3, 'legendary': 2, ...}), 'pos'), (FreqDist({'film': 10, 'second': 6, 'first': 6, 'two': 6, 'movie': 4, 'act': 4, 'battle': 4, 'ryan': 4, 'mood': 3, 'hard': 3, ...}), 'pos'), (FreqDist({'postman': 7, 'costner': 6, 'hope': 5, 'tate': 5, 'movie': 4, 'ford': 4, 'film': 3, 'hero': 3, 'society': 3, 'character': 3, ...}), 'pos'), (FreqDist({'rylance': 6, 'intimacy': 5, 'fox': 5, 'scenes': 4, 'jay': 4, 'less': 3, 'single': 3, 'may': 3, 'scene': 3, 'claire': 3, ...}), 'pos'), (FreqDist({'zoolander': 7, 'derek': 7, 'really': 6, 'stiller': 5, 'fashion': 5, 'ben': 4, 'mugatu': 4, 'model': 3, 'film': 3, 'life': 2, ...}), 'pos'), (FreqDist({'frequency': 8, 'john': 4, 'film': 4, 'number': 3, 'know': 3, 'new': 3, 'frank': 3, 'past': 3, 'future': 3, 'would': 3, ...}), 'pos'), (FreqDist({'claire': 12, 'andreas': 9, 'cox': 6, 'love': 5, 'john': 5, 'movie': 3, 'would': 3, 'past': 3, 'affair': 3, 'train': 3, ...}), 'pos'), (FreqDist({'thornton': 4, 'one': 4, 'hank': 4, 'raimi': 4, 'film': 4, 'jacob': 3, 'paxton': 3, 'three': 3, 'money': 3, 'made': 3, ...}), 'pos'), (FreqDist({'fantasia': 9, 'music': 4, 'images': 4, 'james': 3, 'paul': 3, 'disney': 3, 'released': 3, 'program': 3, 'new': 3, 'original': 3, ...}), 'pos'), (FreqDist({'little': 6, 'tree': 5, 'boy': 4, 'orphan': 3, 'grandpa': 3, 'grandma': 3, 'grandparents': 2, 'mountains': 2, 'native': 2, 'american': 2, ...}), 'pos'), (FreqDist({'years': 6, 'dalai': 6, 'lama': 6, 'film': 6, 'tibetan': 5, 'seven': 5, 'movie': 5, 'tibet': 4, 'young': 4, 'one': 4, ...}), 'pos'), (FreqDist({'film': 7, 'fantasy': 4, 'game': 3, 'final': 3, 'like': 3, 'story': 3, 'dialogue': 3, 'humans': 3, 'aliens': 3, 'anything': 2, ...}), 'pos'), (FreqDist({'film': 27, 'troopers': 20, 'starship': 17, 'star': 8, 'rico': 8, 'sci': 6, 'fi': 6, 'wars': 6, 'verhoeven': 6, 'gives': 6, ...}), 'pos'), (FreqDist({'movie': 6, 'even': 6, 'one': 5, 'armageddon': 4, 'summer': 4, 'space': 4, 'wrong': 3, 'know': 3, 'film': 3, 'asteroid': 3, ...}), 'pos'), (FreqDist({'film': 12, 'hanako': 6, 'supermarket': 5, 'woman': 5, 'itami': 5, 'also': 5, 'much': 5, 'juzo': 4, 'funny': 4, 'way': 4, ...}), 'pos'), (FreqDist({'first': 4, 'strike': 4, 'chan': 4, 'jackie': 3, 'well': 3, 'like': 3, 'film': 3, 'one': 2, 'never': 2, 'simple': 2, ...}), 'pos'), (FreqDist({'aliens': 5, 'ellie': 3, 'say': 3, 'proof': 3, 'god': 3, 'religion': 2, 'believe': 2, 'believes': 2, 'fax': 2, 'well': 2, ...}), 'pos'), (FreqDist({'segment': 20, 'film': 13, 'one': 11, 'set': 10, 'going': 7, 'whales': 7, 'fantasia': 7, 'fly': 6, 'segments': 6, 'imax': 6, ...}), 'pos'), (FreqDist({'deceiver': 9, 'wayland': 8, 'film': 5, 'like': 5, 'one': 4, 'police': 4, 'kennesaw': 4, 'elizabeth': 3, 'braxton': 3, 'penn': 3, ...}), 'pos'), (FreqDist({'scream': 12, 'movie': 7, 'horror': 6, 'sidney': 4, 'weathers': 4, 'press': 4, 'watching': 4, 'film': 3, 'self': 3, 'college': 3, ...}), 'pos'), (FreqDist({'band': 8, 'song': 5, 'group': 4, 'time': 3, 'fame': 3, 'lead': 3, 'become': 3, 'contest': 3, 'guy': 3, 'well': 3, ...}), 'pos'), (FreqDist({'taymor': 4, 'tamora': 4, 'time': 3, 'luhrmann': 2, 'revenge': 2, 'rome': 2, 'lange': 2, 'titus': 2, 'hopkins': 2, 'story': 2, ...}), 'pos'), (FreqDist({'impact': 11, 'deep': 9, 'comet': 9, 'earth': 7, 'leo': 5, 'beiderman': 5, 'one': 4, 'year': 4, 'president': 4, 'life': 4, ...}), 'pos'), (FreqDist({'twister': 13, 'destruction': 6, 'tornadoes': 5, 'jo': 5, 'bill': 5, 'unlike': 4, 'tornado': 4, 'caused': 4, 'path': 4, 'get': 4, ...}), 'pos'), (FreqDist({'film': 8, 'movies': 6, 'earth': 6, 'island': 5, 'mike': 4, 'watch': 4, 'fun': 4, 'man': 4, 'although': 4, 'dr': 3, ...}), 'pos'), (FreqDist({'ellie': 15, 'film': 12, 'first': 9, 'science': 8, 'machine': 8, 'religious': 8, 'faith': 6, 'even': 6, 'real': 6, 'drumlin': 5, ...}), 'pos'), (FreqDist({'bowfinger': 10, 'ramsey': 9, 'martin': 7, 'murphy': 5, 'offers': 3, 'stars': 3, 'kit': 3, 'mind': 3, 'head': 3, 'story': 3, ...}), 'pos'), (FreqDist({'film': 24, 'allen': 19, 'woody': 12, 'one': 10, 'really': 10, 'great': 9, 'like': 6, 'celebrities': 6, 'character': 6, 'lee': 6, ...}), 'pos'), (FreqDist({'jesus': 14, 'christ': 12, 'film': 11, 'life': 8, 'scorsese': 5, 'also': 5, 'message': 5, 'moments': 5, 'truly': 5, 'judas': 4, ...}), 'pos'), (FreqDist({'memphis': 9, 'film': 8, 'car': 7, 'thief': 4, 'sequence': 4, 'get': 4, 'one': 3, 'back': 3, 'cars': 3, 'rival': 3, ...}), 'pos'), (FreqDist({'movie': 11, 'lake': 7, 'placid': 7, 'funny': 4, 'plays': 3, 'man': 3, 'find': 3, 'great': 3, 'definately': 2, 'one': 2, ...}), 'pos'), (FreqDist({'characters': 6, 'film': 5, 'disco': 5, 'also': 5, 'movie': 4, 'set': 3, 'play': 3, 'alice': 3, 'charlotte': 3, 'written': 3, ...}), 'pos'), (FreqDist({'graham': 9, 'james': 6, 'second': 4, 'best': 4, 'chris': 3, 'must': 3, 'father': 3, 'person': 3, 'also': 3, 'really': 2, ...}), 'pos'), (FreqDist({'bess': 7, 'jan': 6, 'make': 5, 'church': 3, 'movie': 3, 'bit': 3, 'although': 2, 'part': 2, 'emily': 2, 'watson': 2, ...}), 'pos'), (FreqDist({'red': 9, 'october': 9, 'hunt': 6, 'connery': 6, 'submarine': 3, 'baldwin': 3, 'sub': 3, 'ramius': 3, 'neil': 3, 'love': 2, ...}), 'pos'), (FreqDist({'two': 8, 'chidduck': 4, 'tough': 3, 'us': 3, 'yet': 3, 'parker': 3, 'longbaugh': 3, 'way': 3, 'life': 3, 'guy': 2, ...}), 'pos'), (FreqDist({'kiki': 21, 'movie': 14, 'beauty': 12, 'disney': 11, 'delivery': 6, 'service': 6, 'however': 5, 'seen': 4, 'movies': 4, 'witch': 4, ...}), 'pos'), (FreqDist({'film': 6, 'horror': 4, 'ring': 3, 'long': 3, 'one': 2, 'films': 2, 'really': 2, 'movie': 2, 'west': 2, 'much': 2, ...}), 'pos'), (FreqDist({'river': 2, 'runs': 2, 'film': 2, 'often': 2, 'one': 2, 'films': 2, 'movies': 2, 'shots': 2, 'help': 2, 'scorsese': 2, ...}), 'pos'), (FreqDist({'apt': 8, 'pupil': 8, 'todd': 8, 'film': 7, 'bowden': 7, 'dussander': 7, 'one': 5, 'singer': 4, 'renfro': 4, 'suspects': 4, ...}), 'pos'), (FreqDist({'disco': 6, 'stillman': 5, 'last': 5, 'days': 4, 'talk': 4, 'movie': 3, 'new': 3, 'true': 3, 'film': 3, 'say': 3, ...}), 'pos'), (FreqDist({'film': 6, 'martians': 4, 'invasion': 3, 'nicholson': 2, 'hillarous': 2, 'cinema': 2, 'people': 2, 'earth': 2, 'ray': 2, 'guns': 2, ...}), 'pos'), (FreqDist({'bond': 4, 'tomorrow': 4, 'never': 4, 'dies': 4, 'carver': 4, 'pryce': 4, 'many': 4, 'goldeneye': 3, 'new': 3, 'brosnan': 3, ...}), 'pos'), (FreqDist({'movie': 23, 'summer': 9, 'x': 8, 'files': 8, 'mulder': 8, 'movies': 7, 'time': 7, 'series': 5, 'several': 5, 'know': 5, ...}), 'pos'), (FreqDist({'film': 7, 'america': 6, 'films': 5, 'time': 4, 'go': 3, 'rigormortis': 3, 'previous': 3, 'agent': 3, 'nice': 2, 'easy': 2, ...}), 'pos'), (FreqDist({'film': 8, 'movie': 6, 'home': 4, 'video': 4, 'camera': 4, 'dvd': 3, 'three': 2, 'blair': 2, 'witch': 2, 'footage': 2, ...}), 'pos'), (FreqDist({'really': 6, 'film': 6, 'see': 6, 'day': 5, 'movie': 4, 'one': 3, 'rookie': 3, 'cop': 3, 'things': 3, 'like': 3, ...}), 'pos'), (FreqDist({'ned': 8, 'devine': 6, 'two': 5, 'movie': 4, 'michael': 4, 'man': 3, 'real': 3, 'waking': 3, 'plot': 3, 'jackie': 3, ...}), 'pos'), (FreqDist({'storm': 3, 'life': 3, 'granger': 2, 'perfect': 2, 'people': 2, 'fishing': 2, 'boat': 2, 'terrifying': 2, 'fish': 2, 'skipper': 2, ...}), 'pos'), (FreqDist({'movie': 14, 'john': 10, 'movies': 8, 'malkovich': 8, 'best': 6, 'funny': 5, 'one': 5, 'like': 4, 'mind': 4, 'well': 4, ...}), 'pos'), (FreqDist({'gere': 7, 'aaron': 4, 'comes': 2, 'together': 2, 'big': 2, 'attorney': 2, 'case': 2, 'even': 2, 'norton': 2, 'boy': 2, ...}), 'pos'), (FreqDist({'crowe': 9, 'sees': 5, 'boy': 5, 'well': 4, 'one': 4, 'lie': 4, 'willis': 4, 'cole': 4, 'dead': 4, 'time': 4, ...}), 'pos'), (FreqDist({'col': 9, 'nicholson': 8, 'film': 7, 'bridge': 7, 'japanese': 7, 'british': 6, 'war': 5, 'picture': 4, 'lean': 3, 'american': 3, ...}), 'pos'), (FreqDist({'film': 8, 'fiction': 6, 'movie': 6, 'pulp': 5, 'making': 5, 'like': 5, 'story': 5, 'marcellus': 4, 'cool': 4, 'end': 4, ...}), 'pos'), (FreqDist({'film': 27, 'one': 16, 'see': 14, 'wild': 9, 'things': 9, 'plot': 9, 'may': 8, 'campbell': 7, 'way': 7, 'r': 7, ...}), 'pos'), (FreqDist({'film': 16, 'one': 9, 'sean': 9, 'relationship': 9, 'lambeau': 8, 'like': 7, 'two': 6, 'scene': 5, 'people': 4, 'damon': 4, ...}), 'pos'), (FreqDist({'movie': 7, 'one': 5, 'funny': 5, 'like': 5, 'carrey': 5, 'end': 4, 'liar': 4, 'even': 4, 'scene': 4, 'almost': 3, ...}), 'pos'), (FreqDist({'alien': 14, 'film': 13, 'like': 9, 'one': 8, 'ripley': 8, 'good': 6, 'ship': 6, 'well': 6, 'really': 6, 'scene': 6, ...}), 'pos'), (FreqDist({'plunkett': 6, 'macleane': 6, 'although': 6, 'would': 5, 'movie': 5, 'little': 5, 'film': 5, 'carlyle': 4, 'miller': 4, 'jake': 3, ...}), 'neg'), (FreqDist({'movie': 5, 'know': 4, 'baldwin': 3, 'ship': 3, 'like': 3, 'curtis': 2, 'crew': 2, 'kick': 2, 'power': 2, 'going': 2, ...}), 'neg'), (FreqDist({'johnny': 8, 'movie': 7, 'could': 5, 'script': 4, 'one': 4, 'future': 4, 'gibson': 3, 'another': 3, 'data': 3, 'head': 3, ...}), 'neg'), (FreqDist({'film': 6, 'however': 4, 'lynch': 3, 'b': 3, 'grade': 3, 'action': 3, 'madsen': 3, 'gio': 3, 'richard': 2, 'role': 2, ...}), 'neg'), (FreqDist({'two': 7, 'film': 5, 'movie': 4, 'get': 4, 'club': 4, 'brothers': 4, 'see': 3, 'night': 3, 'roxbury': 3, 'one': 3, ...}), 'neg'), (FreqDist({'film': 8, 'movie': 7, 'bad': 5, 'man': 4, 'guy': 4, 'top': 4, 'tim': 3, 'dude': 3, 'one': 3, 'say': 3, ...}), 'neg'), (FreqDist({'pretty': 4, 'many': 4, 'much': 4, 'nice': 4, 'berenger': 3, 'panama': 3, 'beginning': 3, 'hero': 3, 'action': 3, 'real': 3, ...}), 'neg'), (FreqDist({'movie': 3, 'foot': 2, 'high': 2, 'dragon': 2, 'computer': 2, 'co': 2, 'draco': 2, 'well': 2, 'minutes': 2, 'light': 2, ...}), 'neg'), (FreqDist({'film': 10, 'helena': 6, 'lynch': 6, 'cavanaugh': 6, 'one': 4, 'movie': 4, 'role': 3, 'sherilyn': 3, 'fenn': 3, 'characters': 3, ...}), 'neg'), (FreqDist({'death': 11, 'bill': 8, 'joe': 6, 'film': 6, 'time': 5, 'one': 4, 'pitt': 4, 'like': 4, 'story': 4, 'human': 4, ...}), 'neg'), (FreqDist({'spawn': 11, 'movie': 5, 'simmons': 5, 'like': 4, 'clown': 4, 'even': 4, 'wynn': 3, 'leguizamo': 3, 'would': 3, 'one': 3, ...}), 'neg'), (FreqDist({'dreams': 5, 'claire': 5, 'creepy': 2, 'clairvoyant': 2, 'potential': 2, 'movie': 2, 'least': 2, 'nifty': 2, 'even': 2, 'comes': 2, ...}), 'neg'), (FreqDist({'bookseller': 12, 'film': 11, 'man': 10, 'young': 8, 'one': 7, 'keep': 6, 'cool': 6, 'nightclub': 6, 'owner': 6, 'older': 6, ...}), 'neg'), (FreqDist({'macleane': 7, 'rebecca': 5, 'plunkett': 4, 'film': 3, 'two': 3, 'scott': 3, 'going': 3, 'mtv': 2, 'movie': 2, 'go': 2, ...}), 'neg'), (FreqDist({'dora': 10, 'heckerling': 9, 'paul': 9, 'loser': 4, 'girl': 3, 'goth': 3, 'become': 3, 'alcott': 3, 'big': 2, 'fast': 2, ...}), 'neg'), (FreqDist({'broderick': 5, 'new': 4, 'york': 4, 'godzilla': 4, 'movie': 4, 'acting': 4, 'also': 4, 'ha': 4, 'film': 3, 'french': 3, ...}), 'neg'), (FreqDist({'trek': 6, 'would': 5, 'film': 5, 'data': 5, 'enterprise': 5, 'series': 4, 'one': 4, 'star': 4, 'generations': 4, 'crew': 4, ...}), 'neg'), (FreqDist({'movie': 10, 'scary': 7, 'original': 5, 'sequel': 3, 'take': 3, 'haunted': 3, 'wayans': 2, 'spoof': 2, 'teen': 2, 'slasher': 2, ...}), 'neg'), (FreqDist({'gadget': 8, 'film': 8, 'really': 7, 'zany': 6, 'bad': 4, 'time': 3, 'favorite': 3, 'martian': 3, 'another': 3, 'disney': 3, ...}), 'neg'), (FreqDist({'l': 9, 'carrey': 4, 'look': 4, 'ace': 3, 'like': 3, 'level': 3, 'movie': 3, 'lewis': 3, 'jim': 2, 'ventura': 2, ...}), 'neg'), (FreqDist({'football': 7, 'like': 5, 'keanu': 4, 'reeves': 4, 'gene': 3, 'hackman': 3, 'cast': 3, 'characters': 3, 'team': 3, 'cheerleaders': 3, ...}), 'neg'), (FreqDist({'ginty': 4, 'jack': 4, 'good': 3, 'played': 3, 'fahey': 3, 'erotic': 2, 'woman': 2, 'desire': 2, 'robert': 2, 'star': 2, ...}), 'neg'), (FreqDist({'film': 6, 'cradle': 5, 'play': 5, 'rock': 4, 'theater': 4, 'tim': 3, 'story': 3, 'like': 3, 'robbin': 3, 'nice': 3, ...}), 'neg'), (FreqDist({'movie': 10, 'one': 7, 'even': 5, 'like': 5, 'pornography': 4, 'bugs': 4, 'bad': 3, 'anything': 3, 'thing': 3, 'soldiers': 3, ...}), 'neg'), (FreqDist({'movie': 19, 'richard': 7, 'things': 5, 'plot': 5, 'character': 5, 'story': 5, 'cast': 5, 'get': 4, 'cinematography': 4, 'think': 4, ...}), 'neg'), (FreqDist({'film': 4, 'may': 3, 'boring': 2, 'english': 2, 'patient': 2, 'acting': 2, 'cinematography': 2, 'sub': 2, 'made': 2, 'fiennes': 2, ...}), 'neg'), (FreqDist({'kate': 16, 'nick': 13, 'movie': 8, 'would': 5, 'wedding': 5, 'enough': 5, 'jennifer': 4, 'aniston': 4, 'company': 4, 'kevin': 4, ...}), 'neg'), (FreqDist({'hole': 9, 'woman': 7, 'man': 6, 'virus': 4, 'movie': 4, 'nothing': 4, 'lives': 4, 'yang': 3, 'tsai': 3, 'people': 3, ...}), 'neg'), (FreqDist({'camp': 6, 'least': 5, 'party': 3, 'film': 3, 'could': 3, 'done': 3, 'seen': 2, 'nothing': 2, 'fun': 2, 'would': 2, ...}), 'neg'), (FreqDist({'drew': 7, 'character': 3, 'except': 3, 'story': 3, 'school': 3, 'popular': 3, 'funny': 3, 'film': 3, 'hand': 3, 'future': 2, ...}), 'neg'), (FreqDist({'negative': 5, 'dumb': 5, 'movie': 4, 'boys': 4, 'girls': 4, 'jennifer': 4, 'week': 3, 'prinze': 3, 'jr': 3, 'ryan': 3, ...}), 'neg'), (FreqDist({'martian': 7, 'favourite': 5, 'movie': 5, 'even': 4, 'character': 4, 'every': 3, 'like': 3, 'entertainment': 3, 'films': 3, 'one': 3, ...}), 'neg'), (FreqDist({'film': 10, 'earthquake': 5, 'big': 5, 'little': 5, 'bujold': 5, 'cares': 5, 'disaster': 4, 'one': 4, 'gardner': 4, 'theatre': 3, ...}), 'neg'), (FreqDist({'movie': 13, 'rock': 12, 'like': 10, 'see': 10, 'kiss': 9, 'detroit': 8, 'city': 7, 'film': 7, 'funny': 7, 'got': 6, ...}), 'neg'), (FreqDist({'director': 5, 'every': 4, 'bad': 3, 'supporting': 3, 'big': 3, 'comedy': 3, 'brothers': 3, 'scene': 3, 'two': 2, 'walter': 2, ...}), 'neg'), (FreqDist({'original': 3, 'job': 3, 'gets': 3, 'course': 2, 'tv': 2, 'makes': 2, 'give': 2, 'picture': 2, 'perfect': 2, 'character': 2, ...}), 'neg'), (FreqDist({'cage': 5, 'welles': 5, 'man': 4, 'film': 4, 'girl': 4, 'bizarre': 3, 'devil': 3, 'director': 3, 'schumacher': 3, 'going': 2, ...}), 'neg'), (FreqDist({'park': 6, 'jurassic': 4, 'grant': 3, 'one': 3, 'lost': 3, 'world': 3, 'first': 3, 'original': 2, 'neill': 2, 'macy': 2, ...}), 'neg'), (FreqDist({'earth': 5, 'humans': 5, 'terel': 5, 'jonnie': 5, 'film': 4, 'battlefield': 4, 'every': 4, 'one': 3, 'travolta': 3, 'bad': 3, ...}), 'neg'), (FreqDist({'movie': 7, 'time': 7, 'film': 6, 'julia': 5, 'roberts': 5, 'reality': 4, 'sweethearts': 4, 'gwen': 4, 'eddie': 4, 'billy': 4, ...}), 'neg'), (FreqDist({'made': 6, 'know': 6, 'julie': 6, 'original': 5, 'last': 5, 'still': 5, 'sequel': 5, 'summer': 4, 'like': 4, 'one': 4, ...}), 'neg'), (FreqDist({'allen': 3, 'stone': 3, 'life': 3, 'trys': 2, 'story': 2, 'one': 2, 'z': 2, 'colony': 2, 'film': 2, 'antz': 2, ...}), 'neg'), (FreqDist({'without': 6, 'home': 4, 'fries': 4, 'mother': 4, 'movie': 4, 'sally': 3, 'dorian': 3, 'angus': 3, 'woman': 3, 'hit': 2, ...}), 'neg'), (FreqDist({'van': 8, 'damme': 8, 'action': 8, 'knock': 5, 'like': 4, 'plot': 4, 'time': 3, 'movie': 3, 'even': 3, 'camera': 3, ...}), 'neg'), (FreqDist({'film': 6, 'museum': 3, 'movie': 3, 'miller': 3, 'relic': 2, 'scream': 2, 'creature': 2, 'goes': 2, 'four': 2, 'even': 2, ...}), 'neg'), (FreqDist({'comet': 9, 'deep': 6, 'impact': 6, 'disaster': 6, 'freeman': 6, 'two': 5, 'tv': 5, 'earth': 5, 'know': 5, 'people': 5, ...}), 'neg'), (FreqDist({'film': 8, 'wallace': 6, 'braveheart': 3, 'one': 3, 'horner': 3, 'score': 3, 'freedom': 3, 'emotional': 3, 'spartacus': 3, 'award': 2, ...}), 'neg'), (FreqDist({'carry': 5, 'movie': 5, 'kenneth': 5, 'emmannuelle': 4, 'film': 4, 'bed': 3, 'emile': 3, 'williams': 3, 'given': 3, 'script': 3, ...}), 'neg'), (FreqDist({'dwayne': 11, 'one': 6, 'film': 5, 'rudolph': 4, 'see': 3, 'nolte': 3, 'would': 3, 'midland': 3, 'city': 3, 'people': 2, ...}), 'neg'), (FreqDist({'film': 13, 'mars': 10, 'mission': 8, 'luc': 7, 'team': 6, 'space': 5, 'planet': 5, 'jim': 4, 'almost': 4, 'ship': 4, ...}), 'neg'), (FreqDist({'dietz': 5, 'relentless': 4, 'serial': 3, 'killer': 3, 'one': 3, 'movies': 2, 'deal': 2, 'killers': 2, 'detective': 2, 'sam': 2, ...}), 'neg'), (FreqDist({'carrey': 10, 'ace': 9, 'ventura': 8, 'first': 6, 'funny': 5, 'movie': 4, 'one': 4, 'dumb': 2, 'dumber': 2, 'even': 2, ...}), 'neg'), (FreqDist({'film': 4, 'dvd': 3, 'sterling': 3, 'group': 2, 'stranded': 2, 'last': 2, 'stop': 2, 'one': 2, 'adam': 2, 'beach': 2, ...}), 'neg'), (FreqDist({'film': 16, 'director': 8, 'good': 6, 'east': 6, 'one': 5, 'sadie': 5, 'meier': 5, 'west': 5, 'short': 4, 'several': 4, ...}), 'neg'), (FreqDist({'ripley': 5, 'alien': 4, 'movie': 4, 'pod': 4, 'story': 3, 'end': 3, 'ending': 3, 'tension': 2, 'one': 2, 'seems': 2, ...}), 'neg'), (FreqDist({'movie': 16, 'story': 7, 'well': 5, 'character': 5, 'interesting': 5, 'enough': 5, 'played': 5, 'one': 3, 'quite': 3, 'acting': 3, ...}), 'neg'), (FreqDist({'green': 11, 'tom': 6, 'make': 5, 'freddy': 4, 'film': 4, 'gord': 3, 'dad': 3, 'got': 3, 'fingered': 3, 'rip': 2, ...}), 'neg'), (FreqDist({'earth': 5, 'terl': 5, 'battlefield': 4, 'travolta': 4, 'film': 4, 'one': 3, 'story': 3, 'called': 3, 'mining': 3, 'psychlo': 3, ...}), 'neg'), (FreqDist({'film': 9, 'drug': 8, 'grace': 8, 'one': 5, 'smoking': 4, 'war': 4, 'business': 4, 'husband': 4, 'finds': 4, 'matthew': 4, ...}), 'neg'), (FreqDist({'film': 10, 'presence': 9, 'like': 8, 'one': 7, 'abraham': 7, 'realm': 6, 'new': 5, 'ice': 5, 'would': 5, 'see': 5, ...}), 'neg'), (FreqDist({'joe': 22, 'meg': 9, 'ryan': 9, 'one': 7, 'island': 7, 'volcano': 6, 'movie': 6, 'graynamore': 6, 'boat': 6, 'also': 4, ...}), 'neg'), (FreqDist({'movie': 5, 'burning': 5, 'one': 4, 'even': 4, 'fire': 4, 'girl': 4, 'beginning': 3, 'forest': 3, 'get': 3, 'monica': 3, ...}), 'neg'), (FreqDist({'film': 14, 'flubber': 8, 'philip': 7, 'disney': 6, 'like': 6, 'absent': 5, 'really': 5, 'college': 5, 'minded': 4, 'plot': 4, ...}), 'neg'), (FreqDist({'film': 11, 'sam': 9, 'giant': 5, 'get': 5, 'max': 5, 'great': 5, 'romania': 4, 'family': 4, 'one': 3, 'thing': 3, ...}), 'neg'), (FreqDist({'kahl': 4, 'television': 3, 'movies': 3, 'pay': 3, 'still': 3, 'many': 3, 'film': 3, 'series': 2, 'dealing': 2, 'real': 2, ...}), 'neg'), (FreqDist({'ichabod': 6, 'sleepy': 5, 'hollow': 5, 'series': 4, 'burton': 3, 'town': 3, 'horror': 2, 'films': 2, 'leading': 2, 'kevin': 2, ...}), 'neg'), (FreqDist({'film': 12, 'know': 11, 'hewitt': 11, 'horror': 8, 'still': 7, 'last': 6, 'brandy': 6, 'audience': 6, 'like': 6, 'summer': 5, ...}), 'neg'), (FreqDist({'film': 9, 'patrick': 7, 'alien': 7, 'first': 6, 'species': 6, 'eve': 5, 'character': 5, 'ii': 4, 'like': 4, 'much': 4, ...}), 'neg'), (FreqDist({'film': 13, 'schumacher': 11, 'good': 9, 'welles': 9, 'like': 8, 'see': 8, 'films': 6, 'movie': 6, 'joel': 6, 'money': 6, ...}), 'neg'), (FreqDist({'jimmie': 10, 'film': 8, 'donnell': 5, 'women': 5, 'point': 4, 'one': 3, 'chances': 3, 'well': 3, 'character': 3, 'business': 3, ...}), 'neg'), (FreqDist({'bacon': 5, 'hollow': 4, 'man': 4, 'much': 4, 'right': 3, 'invisible': 3, 'verhoeven': 3, 'film': 3, 'time': 3, 'would': 2, ...}), 'neg'), (FreqDist({'gal': 8, 'plot': 7, 'sexy': 5, 'beast': 5, 'kingsley': 5, 'film': 5, 'crime': 5, 'old': 5, 'would': 4, 'respectability': 4, ...}), 'neg'), (FreqDist({'porter': 7, 'mel': 5, 'payback': 4, 'one': 3, 'movie': 3, 'look': 3, 'va': 3, 'dead': 2, 'back': 2, 'without': 2, ...}), 'neg'), (FreqDist({'disney': 7, 'john': 5, 'smith': 5, 'film': 5, 'even': 5, 'pocahontas': 4, 'time': 4, 'many': 4, 'story': 3, 'governor': 3, ...}), 'neg'), (FreqDist({'one': 14, 'director': 10, 'film': 10, 'good': 9, 'films': 8, 'quentin': 8, 'made': 7, 'ted': 7, 'funny': 6, 'couple': 5, ...}), 'neg'), (FreqDist({'connor': 15, 'film': 7, 'like': 6, 'highlander': 6, 'plot': 5, 'one': 5, 'assassins': 5, 'zeist': 5, 'shield': 4, 'sent': 4, ...}), 'neg'), (FreqDist({'switchback': 6, 'killer': 4, 'movie': 4, 'lacrosse': 4, 'even': 3, 'needs': 2, 'like': 2, 'lee': 2, 'fast': 2, 'know': 2, ...}), 'neg'), (FreqDist({'movie': 7, 'film': 6, 'julia': 4, 'character': 4, 'well': 4, 'like': 4, 'plot': 3, 'everyone': 3, 'beyond': 3, 'roberts': 3, ...}), 'neg'), (FreqDist({'gloria': 7, 'stone': 6, 'kevin': 4, 'almost': 3, 'play': 3, 'film': 3, 'got': 3, 'bad': 3, 'nicky': 3, 'movie': 3, ...}), 'neg'), (FreqDist({'mars': 6, 'carpenter': 3, 'granger': 2, 'ghosts': 2, 'year': 2, 'released': 2, 'living': 2, 'grier': 2, 'shining': 2, 'canyon': 2, ...}), 'neg'), (FreqDist({'movie': 7, 'postman': 7, 'earp': 5, 'film': 5, 'wyatt': 4, 'like': 4, 'brown': 4, 'love': 3, 'could': 3, 'world': 3, ...}), 'neg'), (FreqDist({'apes': 11, 'planet': 9, 'heston': 8, 'ape': 6, 'one': 3, 'time': 3, 'humans': 3, 'movie': 3, 'damn': 2, 'taken': 2, ...}), 'neg'), (FreqDist({'jackal': 15, 'film': 11, 'like': 8, 'one': 7, 'couple': 7, 'character': 6, 'poitier': 6, 'sidney': 5, 'trying': 5, 'big': 4, ...}), 'neg'), (FreqDist({'film': 7, 'romance': 4, 'plot': 3, 'one': 3, 'life': 2, 'witch': 2, 'movie': 2, 'cause': 2, 'magic': 2, 'matter': 2, ...}), 'neg'), (FreqDist({'movie': 9, 'van': 7, 'damme': 7, 'jean': 5, 'claude': 5, 'killed': 4, 'brother': 4, 'gets': 3, 'twin': 3, 'natasha': 3, ...}), 'neg'), (FreqDist({'liz': 11, 'courtney': 10, 'julie': 7, 'film': 7, 'jawbreaker': 6, 'teen': 5, 'fern': 4, 'high': 4, 'audience': 4, 'look': 4, ...}), 'neg'), (FreqDist({'li': 10, 'jia': 9, 'yang': 8, 'day': 8, 'film': 8, 'new': 6, 'us': 6, 'taiwan': 6, 'first': 5, 'wrong': 5, ...}), 'neg'), (FreqDist({'film': 5, 'time': 5, 'space': 4, 'scenes': 4, 'family': 4, 'act': 4, 'story': 4, 'lost': 3, 'amount': 3, 'without': 3, ...}), 'neg'), (FreqDist({'movie': 8, 'film': 8, 'killer': 4, 'music': 4, 'horror': 3, 'first': 3, 'slasher': 3, 'one': 3, 'scene': 3, 'like': 3, ...}), 'neg'), (FreqDist({'film': 16, 'actors': 8, 'love': 7, 'like': 7, 'even': 6, 'avengers': 5, 'never': 5, 'seems': 5, 'one': 5, 'scenes': 5, ...}), 'neg'), (FreqDist({'movie': 10, 'one': 8, 'first': 7, 'film': 7, 'still': 6, 'know': 5, 'even': 4, 'julie': 4, 'time': 4, 'last': 3, ...}), 'neg'), (FreqDist({'film': 6, 'school': 6, 'original': 5, 'time': 5, 'rachel': 5, 'carrie': 5, 'one': 5, 'sue': 5, 'high': 4, 'even': 3, ...}), 'neg'), (FreqDist({'even': 10, 'virus': 9, 'film': 9, 'movie': 8, 'cameron': 7, 'bruno': 7, 'one': 7, 'like': 6, 'could': 5, 'say': 5, ...}), 'neg'), (FreqDist({'deuce': 14, 'antoine': 5, 'fish': 4, 'one': 4, 'sandler': 4, 'schneider': 3, 'griffin': 3, 'man': 3, 'whose': 3, 'funny': 3, ...}), 'neg'), (FreqDist({'patch': 10, 'film': 5, 'school': 5, 'robin': 4, 'adams': 4, 'medical': 4, 'end': 3, 'williams': 3, 'court': 3, 'people': 3, ...}), 'neg'), (FreqDist({'dead': 17, 'bang': 16, 'beck': 10, 'johnson': 7, 'movie': 7, 'film': 4, 'character': 4, 'scene': 4, 'action': 3, 'since': 3, ...}), 'neg'), (FreqDist({'jack': 12, 'snowman': 9, 'film': 8, 'frost': 7, 'charlie': 6, 'one': 5, 'since': 5, 'year': 5, 'christmas': 5, 'son': 4, ...}), 'neg'), (FreqDist({'nell': 6, 'house': 6, 'haunting': 4, 'one': 4, 'new': 3, 'much': 3, 'taylor': 3, 'hill': 3, 'marrow': 3, 'neeson': 3, ...}), 'neg'), (FreqDist({'fight': 7, 'play': 5, 'bone': 5, 'vince': 5, 'well': 5, 'rocky': 4, 'one': 4, 'two': 4, 'film': 4, 'mr': 4, ...}), 'neg'), (FreqDist({'karen': 12, 'mccoy': 7, 'real': 6, 'schmidt': 5, 'parole': 4, 'j': 4, 'would': 4, 'one': 4, 'might': 3, 'middle': 3, ...}), 'neg'), (FreqDist({'analyze': 5, 'think': 5, 'movie': 5, 'deniro': 4, 'character': 4, 'funny': 4, 'ago': 3, 'parody': 3, 'mob': 3, 'know': 3, ...}), 'neg'), (FreqDist({'carrey': 8, 'ace': 6, 'ventura': 3, 'warner': 2, 'two': 2, 'release': 2, 'batman': 2, 'forever': 2, 'bat': 2, 'nature': 2, ...}), 'neg'), (FreqDist({'jolie': 4, 'luis': 3, 'banderas': 3, 'heart': 3, 'cuban': 2, 'away': 2, 'wife': 2, 'julia': 2, 'also': 2, 'given': 2, ...}), 'neg'), (FreqDist({'mctiernan': 4, 'thirteenth': 4, 'warrior': 4, 'gets': 2, 'apart': 2, 'good': 2, 'crichton': 2, 'banderas': 2, 'hard': 2, 'pair': 1, ...}), 'neg'), (FreqDist({'senseless': 7, 'wayans': 7, 'darryl': 7, 'moments': 4, 'comedy': 4, 'senses': 4, 'simply': 3, 'film': 3, 'marlon': 2, 'physical': 2, ...}), 'neg'), (FreqDist({'kate': 4, 'publisher': 4, 'vanni': 4, 'film': 3, 'set': 3, 'husband': 3, 'alec': 3, 'self': 3, 'man': 3, 'story': 3, ...}), 'neg'), (FreqDist({'evolution': 4, 'duchovny': 3, 'moore': 3, 'certainly': 3, 'kane': 2, 'block': 2, 'jones': 2, 'first': 2, 'scene': 2, 'alien': 2, ...}), 'neg'), (FreqDist({'schwimmer': 2, 'classmate': 2, 'though': 2, 'david': 1, 'television': 1, 'series': 1, 'friends': 1, 'stars': 1, 'sensitive': 1, 'slightly': 1, ...}), 'neg'), (FreqDist({'flubber': 7, 'flying': 6, 'one': 5, 'make': 4, 'little': 4, 'williams': 3, 'film': 3, 'professor': 3, 'disney': 3, 'films': 3, ...}), 'neg'), (FreqDist({'eye': 8, 'woman': 4, 'away': 3, 'car': 3, 'us': 3, 'movie': 3, 'judd': 3, 'daughter': 3, 'ever': 2, 'miraculously': 2, ...}), 'neg'), (FreqDist({'carrey': 10, 'jim': 3, 'ace': 3, 'ventura': 3, 'even': 3, 'takes': 3, 'viewers': 2, 'living': 2, 'color': 2, 'know': 2, ...}), 'neg'), (FreqDist({'dan': 6, 'comedy': 4, 'lilly': 4, 'molly': 4, 'movie': 4, 'love': 3, 'husband': 3, 'wife': 3, 'write': 3, 'good': 2, ...}), 'neg'), (FreqDist({'hero': 7, 'one': 6, 'big': 6, 'burly': 6, 'bad': 5, 'firestorm': 5, 'good': 4, 'long': 4, 'guy': 4, 'movie': 4, ...}), 'neg'), (FreqDist({'movie': 7, 'bad': 6, 'verhoeven': 4, 'plot': 4, 'characters': 4, 'brain': 4, 'film': 4, 'allow': 3, 'starship': 3, 'troopers': 3, ...}), 'neg'), (FreqDist({'film': 6, 'birdy': 6, 'costume': 5, 'movie': 4, 'daughter': 4, 'played': 4, 'scenes': 4, 'would': 3, 'father': 3, 'one': 3, ...}), 'neg'), (FreqDist({'movie': 8, 'lambert': 7, 'one': 5, 'bad': 4, 'could': 4, 'good': 4, 'scene': 4, 'hunted': 3, 'getting': 3, 'ninja': 3, ...}), 'neg'), (FreqDist({'one': 5, 'action': 5, 'film': 4, 'armageddon': 4, 'capital': 4, 'must': 4, 'liners': 3, 'steve': 3, 'buscemi': 3, 'kids': 2, ...}), 'neg'), (FreqDist({'movie': 10, 'werewolf': 9, 'film': 5, 'actually': 5, 'impressive': 4, 'scary': 4, 'american': 3, 'john': 3, 'part': 3, 'effects': 3, ...}), 'neg'), (FreqDist({'movie': 8, 'bad': 6, 'cop': 4, 'seen': 4, 'know': 4, 'guy': 4, 'smith': 4, 'martin': 4, 'lawrence': 4, 'could': 4, ...}), 'neg'), (FreqDist({'film': 6, 'one': 6, 'degeneres': 6, 'ellen': 3, 'wrote': 3, 'wig': 3, 'yet': 3, 'plot': 3, 'sandra': 3, 'car': 3, ...}), 'neg'), (FreqDist({'movie': 10, 'people': 6, 'cigarettes': 4, 'lucy': 4, 'characters': 3, 'one': 3, 'like': 3, 'love': 3, 'party': 3, 'kevin': 3, ...}), 'neg'), (FreqDist({'porky': 9, 'actually': 5, 'would': 5, 'one': 5, 'even': 5, 'film': 4, 'movie': 4, 'things': 3, 'four': 3, 'teenage': 3, ...}), 'neg'), (FreqDist({'bad': 5, 'tim': 4, 'even': 4, 'french': 4, 'plot': 4, 'son': 4, 'island': 4, 'joke': 4, 'made': 3, 'life': 3, ...}), 'neg'), (FreqDist({'film': 6, 'babies': 6, 'baby': 4, 'geniuses': 4, 'sylvester': 4, 'would': 4, 'like': 3, 'may': 3, 'monkeys': 3, 'plot': 3, ...}), 'neg'), (FreqDist({'de': 5, 'palma': 5, 'film': 5, 'great': 3, 'hard': 3, 'achievement': 3, 'space': 3, 'problem': 2, 'making': 2, 'brian': 2, ...}), 'neg'), (FreqDist({'film': 8, 'richard': 7, 'beach': 4, 'mood': 4, 'time': 4, 'becomes': 3, 'island': 3, 'paradise': 3, 'looking': 3, 'etienne': 3, ...}), 'neg'), (FreqDist({'joe': 17, 'young': 7, 'movie': 5, 'jill': 5, 'mighty': 4, 'ape': 3, 'make': 3, 'theron': 3, 'poachers': 3, 'show': 3, ...}), 'neg'), (FreqDist({'patch': 12, 'film': 8, 'adams': 5, 'films': 4, 'people': 4, 'scene': 4, 'feel': 3, 'need': 3, 'make': 3, 'number': 3, ...}), 'neg'), (FreqDist({'einstein': 8, 'young': 7, 'yahoo': 7, 'movie': 6, 'film': 3, 'box': 2, 'office': 2, 'time': 2, 'hoping': 2, 'takes': 2, ...}), 'neg'), (FreqDist({'film': 14, 'krippendorf': 12, 'dreyfuss': 10, 'tribe': 8, 'like': 6, 'funny': 6, 'good': 5, 'would': 5, 'actors': 4, 'bad': 4, ...}), 'neg'), (FreqDist({'film': 11, 'ray': 8, 'story': 5, 'make': 4, 'buddies': 3, 'anything': 3, 'independent': 2, 'feel': 2, 'films': 2, 'home': 2, ...}), 'neg'), (FreqDist({'film': 24, 'apes': 20, 'planet': 11, 'ape': 8, 'language': 7, 'much': 6, 'little': 6, 'like': 6, 'humans': 6, 'human': 6, ...}), 'neg'), (FreqDist({'film': 9, 'character': 6, 'michael': 5, 'ironside': 5, 'code': 4, 'documentary': 4, 'world': 3, 'doomsday': 3, 'york': 3, 'plays': 3, ...}), 'neg'), (FreqDist({'lange': 5, 'helen': 5, 'like': 5, 'movie': 4, 'hush': 4, 'bad': 4, 'martha': 4, 'one': 3, 'time': 3, 'hand': 3, ...}), 'neg'), (FreqDist({'film': 7, 'gwen': 7, 'studio': 7, 'eddie': 6, 'crystal': 5, 'movie': 5, 'lee': 5, 'america': 4, 'sweethearts': 4, 'cast': 4, ...}), 'neg'), (FreqDist({'smith': 9, 'wild': 6, 'film': 6, 'west': 5, 'scene': 4, 'thing': 4, 'summer': 3, 'gordon': 3, 'action': 3, 'money': 2, ...}), 'neg'), (FreqDist({'film': 7, 'would': 6, 'one': 5, 'blossom': 5, 'work': 4, 'duchovny': 3, 'doctor': 3, 'hutton': 3, 'big': 3, 'time': 3, ...}), 'neg'), (FreqDist({'astronaut': 5, 'wife': 5, 'theron': 4, 'far': 2, 'rosemary': 2, 'species': 2, 'advocate': 2, 'depp': 2, 'get': 2, 'similar': 2, ...}), 'neg'), (FreqDist({'chow': 7, 'good': 2, 'super': 2, 'action': 2, 'scene': 2, 'director': 2, 'john': 2, 'woo': 2, 'would': 2, 'job': 2, ...}), 'neg'), (FreqDist({'chan': 9, 'condor': 7, 'movie': 7, 'jackie': 4, 'gold': 4, 'key': 4, 'way': 4, 'scene': 3, 'mission': 3, 'hidden': 3, ...}), 'neg'), (FreqDist({'norris': 6, 'action': 5, 'chuck': 4, 'film': 4, 'films': 3, 'top': 2, 'quantity': 2, 'among': 2, 'em': 2, 'genre': 2, ...}), 'neg'), (FreqDist({'gabriel': 10, 'swordfish': 6, 'movie': 5, 'stanley': 5, 'travolta': 4, 'government': 4, 'audience': 3, 'enough': 3, 'computer': 3, 'daughter': 3, ...}), 'neg'), (FreqDist({'nbsp': 58, 'series': 28, 'movie': 23, 'television': 22, 'x': 20, 'files': 20, 'carter': 14, 'show': 12, 'fans': 8, 'much': 8, ...}), 'neg'), (FreqDist({'alain': 6, 'chabat': 6, 'film': 5, 'french': 5, 'little': 4, 'sex': 4, 'one': 4, 'twist': 4, 'pretty': 4, 'even': 3, ...}), 'neg'), (FreqDist({'like': 6, 'aki': 6, 'final': 5, 'fantasy': 5, 'spirits': 4, 'computer': 4, 'aliens': 4, 'dr': 4, 'sid': 4, 'animated': 3, ...}), 'neg'), (FreqDist({'earth': 11, 'movie': 9, 'battlefield': 8, 'psychlos': 7, 'every': 6, 'plot': 5, 'terl': 5, 'action': 4, 'psychlo': 4, 'one': 4, ...}), 'neg'), (FreqDist({'jadzia': 6, 'hala': 5, 'one': 4, 'bolek': 4, 'connelly': 3, 'child': 3, 'film': 3, 'family': 3, 'affair': 3, 'russell': 3, ...}), 'neg'), (FreqDist({'film': 11, 'one': 7, 'time': 5, 'day': 5, 'aliens': 5, 'independence': 4, 'like': 4, 'kid': 4, 'come': 4, 'scene': 4, ...}), 'neg'), (FreqDist({'one': 7, 'masters': 5, 'universe': 4, 'good': 4, 'given': 3, 'two': 3, 'movie': 3, 'skeletor': 3, 'actors': 3, 'langella': 3, ...}), 'neg'), (FreqDist({'ed': 5, 'every': 4, 'girlfriend': 4, 'role': 3, 'brother': 3, 'slut': 3, 'truman': 3, 'show': 3, 'movie': 3, 'like': 3, ...}), 'neg'), (FreqDist({'film': 6, 'even': 5, 'good': 5, 'peel': 5, 'reason': 5, 'scenes': 5, 'one': 5, 'times': 4, 'around': 4, 'first': 4, ...}), 'neg'), (FreqDist({'babysitter': 10, 'film': 7, 'movie': 6, 'boyfriend': 5, 'fails': 5, 'thug': 4, 'characters': 4, 'goal': 4, 'one': 4, 'parents': 3, ...}), 'neg'), (FreqDist({'dolittle': 6, 'murphy': 6, 'however': 6, 'better': 6, 'doctor': 4, 'animals': 4, 'movie': 4, 'dumb': 4, 'done': 4, 'comedy': 3, ...}), 'neg'), (FreqDist({'jakob': 13, 'liar': 5, 'scene': 4, 'much': 4, 'williams': 4, 'set': 3, 'ghetto': 3, 'one': 3, 'character': 3, 'radio': 3, ...}), 'neg'), (FreqDist({'mulholland': 3, 'drive': 3, 'lynch': 3, 'brunette': 3, 'blonde': 3, 'granger': 2, 'director': 2, 'blue': 2, 'elena': 2, 'harring': 2, ...}), 'neg'), (FreqDist({'movie': 11, 'powers': 7, 'austin': 5, 'hard': 4, 'character': 4, 'rather': 3, 'get': 3, 'even': 3, 'would': 3, 'also': 3, ...}), 'neg'), (FreqDist({'one': 6, 'water': 5, 'tom': 5, 'much': 4, 'bad': 3, 'movie': 3, 'flooded': 2, 'hard': 2, 'rain': 2, 'sheriff': 2, ...}), 'neg'), (FreqDist({'vampires': 14, 'film': 11, 'carpenter': 9, 'vampire': 8, 'action': 7, 'plot': 7, 'crow': 6, 'looking': 5, 'style': 4, 'woods': 4, ...}), 'neg'), (FreqDist({'wrestling': 14, 'movie': 10, 'king': 9, 'wcw': 8, 'bischoff': 6, 'sinclair': 5, 'world': 4, 'gordie': 4, 'eric': 4, 'like': 4, ...}), 'neg'), (FreqDist({'psychlo': 6, 'battlefield': 5, 'film': 5, 'earth': 4, 'travolta': 4, 'might': 4, 'long': 3, 'years': 3, 'time': 3, 'make': 3, ...}), 'neg'), (FreqDist({'data': 10, 'trek': 6, 'insurrection': 6, 'movie': 5, 'star': 5, 'time': 4, 'laforge': 4, 'picard': 4, 'went': 4, 'troi': 4, ...}), 'neg'), (FreqDist({'jerry': 7, 'alice': 4, 'roberts': 4, 'another': 3, 'donner': 2, 'mel': 2, 'new': 2, 'cabbie': 2, 'conspiracy': 2, 'theories': 2, ...}), 'neg'), (FreqDist({'simon': 15, 'movie': 9, 'jeffries': 7, 'mercury': 5, 'rising': 5, 'willis': 5, 'plot': 4, 'government': 4, 'autistic': 4, 'character': 4, ...}), 'neg'), (FreqDist({'godzilla': 17, 'broderick': 11, 'new': 5, 'lizard': 4, 'like': 4, 'lightning': 4, 'york': 4, 'patillo': 4, 'get': 3, 'big': 3, ...}), 'neg'), (FreqDist({'kevin': 15, 'lomax': 7, 'milton': 7, 'case': 6, 'movie': 6, 'mary': 5, 'ann': 5, 'devil': 5, 'courtroom': 5, 'lawyer': 4, ...}), 'neg'), (FreqDist({'angels': 9, 'charlie': 7, 'matrix': 5, 'tv': 4, 'one': 4, 'even': 4, 'movie': 3, 'film': 3, 'three': 3, 'liu': 3, ...}), 'neg'), (FreqDist({'found': 6, 'spade': 5, 'also': 5, 'lost': 5, 'movie': 5, 'dylan': 5, 'lila': 5, 'humor': 4, 'david': 3, 'good': 3, ...}), 'neg'), (FreqDist({'classic': 4, 'witty': 2, 'poor': 2, 'average': 2, 'pathetic': 1, 'attempt': 1, 'improving': 1, 'shakespeare': 1, 'another': 1, 'piece': 1, ...}), 'neg'), (FreqDist({'get': 5, 'kitty': 4, 'killer': 3, 'else': 3, 'movie': 3, 'cindy': 3, 'action': 3, 'like': 3, 'something': 3, 'censors': 2, ...}), 'neg'), (FreqDist({'movie': 5, 'know': 5, 'sequel': 4, 'still': 4, 'original': 4, 'julie': 4, 'last': 3, 'reason': 2, 'many': 2, 'cases': 2, ...}), 'neg'), (FreqDist({'movie': 4, 'good': 4, 'mission': 3, 'one': 2, 'get': 2, 'five': 2, 'give': 2, 'moment': 2, 'film': 2, 'kind': 2, ...}), 'neg'), (FreqDist({'chucky': 6, 'one': 5, 'bride': 3, 'nothing': 3, 'new': 3, 'even': 3, 'child': 2, 'play': 2, 'silly': 2, 'rest': 2, ...}), 'neg'), (FreqDist({'like': 8, 'darnell': 8, 'think': 5, 'brandi': 5, 'woman': 4, 'one': 4, 'get': 4, 'lawrence': 3, 'enough': 3, 'sense': 3, ...}), 'neg'), (FreqDist({'way': 3, 'convict': 3, 'liotta': 3, 'flight': 3, 'like': 3, 'movie': 3, 'turbulence': 2, 'seen': 2, 'plane': 2, 'transported': 2, ...}), 'neg'), (FreqDist({'film': 6, 'story': 5, 'erin': 5, 'wonderland': 3, 'see': 3, 'plot': 3, 'boston': 3, 'ad': 3, 'alan': 3, 'one': 3, ...}), 'neg'), (FreqDist({'review': 7, 'want': 3, 'audience': 3, 'reviews': 3, 'film': 3, 'write': 2, 'action': 2, 'bait': 2, 'something': 2, 'half': 2, ...}), 'neg'), (FreqDist({'like': 7, 'simply': 6, 'irresistible': 6, 'gellar': 4, 'much': 4, 'never': 3, 'amanda': 3, 'tom': 3, 'water': 3, 'go': 3, ...}), 'neg'), (FreqDist({'train': 11, 'jamie': 6, 'lee': 6, 'terror': 6, 'one': 5, 'two': 3, 'halloween': 3, 'guy': 3, 'mask': 3, 'conductor': 3, ...}), 'neg'), (FreqDist({'played': 4, 'eye': 3, 'storm': 3, 'film': 3, 'hitchcock': 2, 'filmmakers': 2, 'american': 2, 'beginning': 2, 'yuri': 2, 'zeltser': 2, ...}), 'neg'), (FreqDist({'film': 14, 'nightmare': 7, 'first': 6, 'original': 5, 'dvd': 5, 'elm': 4, 'street': 4, 'theatrical': 4, 'horror': 4, 'series': 3, ...}), 'neg'), (FreqDist({'sebastian': 9, 'valmont': 9, 'cruel': 8, 'intentions': 8, 'liaisons': 6, 'film': 6, 'movie': 6, 'kathryn': 6, 'kumble': 5, 'sex': 5, ...}), 'neg'), (FreqDist({'arnold': 10, 'end': 8, 'devil': 8, 'days': 7, 'schwarzenegger': 7, 'jericho': 7, 'one': 7, 'time': 6, 'action': 6, 'movie': 6, ...}), 'neg'), (FreqDist({'crime': 7, 'mafia': 5, 'movies': 4, 'funny': 3, 'sleep': 3, 'spoof': 3, 'could': 3, 'one': 3, 'vincenzo': 3, 'please': 2, ...}), 'neg'), (FreqDist({'movie': 14, 'effects': 12, 'special': 9, 'haunting': 6, 'story': 5, 'overdone': 4, 'fact': 4, 'take': 4, 'scary': 4, 'fairly': 4, ...}), 'neg'), (FreqDist({'bad': 7, 'film': 6, 'one': 4, 'keanu': 4, 'us': 4, 'since': 3, 'futuristic': 3, 'ending': 3, 'hard': 2, 'drive': 2, ...}), 'neg'), (FreqDist({'shandling': 12, 'bening': 7, 'garry': 6, 'goodman': 6, 'kinnear': 6, 'movie': 5, 'like': 5, 'fact': 5, 'time': 5, 'planet': 4, ...}), 'neg'), (FreqDist({'anastasia': 5, 'disney': 4, 'may': 3, 'animation': 3, 'fox': 3, 'studios': 2, 'bluth': 2, 'visuals': 2, 'occasionally': 2, 'plot': 2, ...}), 'neg'), (FreqDist({'deep': 10, 'rising': 10, 'like': 7, 'film': 5, 'titanic': 5, 'williams': 4, 'something': 3, 'big': 3, 'special': 3, 'since': 3, ...}), 'neg'), (FreqDist({'johnny': 3, 'back': 2, 'one': 2, 'future': 2, 'keanu': 2, 'reeves': 2, 'wet': 2, 'wired': 2, 'long': 2, 'mnemonic': 2, ...}), 'neg'), (FreqDist({'bubble': 8, 'jimmy': 7, 'boy': 6, 'film': 5, 'director': 3, 'chloe': 3, 'love': 3, 'tv': 2, 'case': 2, 'hayes': 2, ...}), 'neg'), (FreqDist({'urban': 8, 'legend': 7, 'scream': 5, 'one': 5, 'great': 4, 'silvio': 3, 'slasher': 3, 'makes': 3, 'movie': 3, 'another': 3, ...}), 'neg'), (FreqDist({'bats': 11, 'see': 4, 'get': 4, 'one': 3, 'even': 3, 'bat': 3, 'batologist': 3, 'camp': 2, 'world': 2, 'looking': 2, ...}), 'neg'), (FreqDist({'original': 7, 'blob': 6, 'goop': 5, 'special': 5, 'effects': 5, 'version': 4, 'shawnee': 3, 'smith': 3, 'remake': 3, 'campy': 3, ...}), 'neg'), (FreqDist({'gilliam': 10, 'thompson': 7, 'acid': 6, 'movie': 6, 'film': 6, 'cox': 5, 'vegas': 5, 'made': 5, 'hard': 4, 'las': 4, ...}), 'neg'), (FreqDist({'feeling': 8, 'freddie': 8, 'jjaks': 8, 'minnesota': 7, 'sam': 7, 'reeves': 4, 'baigelman': 4, 'film': 3, 'romantic': 3, 'another': 3, ...}), 'neg'), (FreqDist({'movie': 6, 'film': 5, 'house': 4, 'scare': 4, 'got': 4, 'like': 3, 'well': 3, 'least': 3, 'would': 3, 'people': 3, ...}), 'neg'), (FreqDist({'steal': 2, 'play': 2, 'another': 2, 'run': 2, 'explosion': 2, 'movie': 2, 'director': 1, 'andrew': 1, 'davis': 1, 'reworks': 1, ...}), 'neg'), (FreqDist({'film': 16, 'studio': 10, 'people': 5, 'much': 5, 'one': 4, 'character': 4, 'like': 4, 'never': 4, 'protagonist': 3, 'become': 3, ...}), 'neg'), (FreqDist({'film': 13, 'burn': 12, 'hollywood': 9, 'eszterhas': 7, 'alan': 5, 'smithee': 5, 'satire': 4, 'bad': 4, 'even': 4, 'references': 4, ...}), 'neg'), (FreqDist({'rimbaud': 13, 'film': 10, 'verlaine': 10, 'poets': 7, 'two': 6, 'poetry': 6, 'poet': 4, 'relationship': 3, 'like': 3, 'looked': 3, ...}), 'neg'), (FreqDist({'idle': 6, 'hands': 6, 'movie': 5, 'time': 3, 'way': 2, 'horror': 2, 'comedy': 2, 'would': 2, 'light': 2, 'release': 2, ...}), 'neg'), (FreqDist({'max': 9, 'see': 3, 'family': 3, 'keeble': 3, 'like': 3, 'film': 3, 'better': 3, 'day': 3, 'school': 3, 'films': 2, ...}), 'neg'), (FreqDist({'lomax': 5, 'milton': 5, 'one': 4, 'begins': 4, 'movie': 4, 'two': 4, 'also': 3, 'pacino': 3, 'like': 3, 'story': 3, ...}), 'neg'), (FreqDist({'mccoy': 7, 'cliche': 6, 'character': 4, 'one': 4, 'film': 4, 'movie': 4, 'bank': 4, 'six': 4, 'bad': 3, 'guy': 3, ...}), 'neg'), (FreqDist({'film': 7, 'haunted': 7, 'house': 6, 'price': 6, 'hill': 5, 'horror': 5, 'movie': 5, 'better': 4, 'starring': 3, 'rush': 3, ...}), 'neg'), (FreqDist({'butcher': 10, 'film': 7, 'meat': 6, 'clown': 5, 'jean': 4, 'man': 4, 'comedy': 4, 'directors': 3, 'marc': 3, 'caro': 3, ...}), 'neg'), (FreqDist({'movie': 6, 'little': 6, 'one': 6, 'film': 4, 'girl': 4, 'career': 3, 'director': 3, 'year': 3, 'years': 3, 'jimmy': 3, ...}), 'neg'), (FreqDist({'osmosis': 9, 'jones': 7, 'frank': 7, 'movie': 5, 'may': 4, 'egg': 4, 'gross': 3, 'humor': 3, 'like': 3, 'jokes': 3, ...}), 'neg'), (FreqDist({'making': 2, 'feel': 2, 'film': 2, 'deserves': 1, 'recognition': 1, 'relatively': 1, 'youthful': 1, 'critic': 1, 'extremely': 1, 'old': 1, ...}), 'neg'), (FreqDist({'film': 4, 'best': 4, 'movie': 3, 'depalma': 3, 'jim': 3, 'phelps': 3, 'computer': 3, 'first': 2, 'going': 2, 'music': 2, ...}), 'neg'), (FreqDist({'film': 7, 'vegas': 6, 'vacation': 5, 'chase': 4, 'angelo': 3, 'griswold': 3, 'series': 3, 'quaid': 3, 'funny': 3, 'movie': 3, ...}), 'neg'), (FreqDist({'west': 15, 'wild': 10, 'gordon': 6, 'smith': 5, 'jim': 5, 'loveless': 4, 'rita': 4, 'first': 4, 'kline': 3, 'time': 3, ...}), 'neg'), (FreqDist({'film': 7, 'gay': 5, 'one': 4, 'money': 3, 'two': 3, 'get': 3, 'makes': 3, 'gang': 3, 'burnt': 2, 'festival': 2, ...}), 'neg'), (FreqDist({'wild': 12, 'west': 7, 'story': 6, 'movie': 5, 'smith': 5, 'better': 4, 'big': 4, 'even': 4, 'men': 3, 'black': 3, ...}), 'neg'), (FreqDist({'film': 10, 'todd': 10, 'soldiers': 4, 'find': 4, 'much': 4, 'new': 4, 'old': 3, 'never': 3, 'michael': 3, 'redman': 3, ...}), 'neg'), (FreqDist({'mod': 2, 'squad': 2, 'screen': 2, 'action': 2, 'rate': 2, 'claire': 1, 'danes': 1, 'giovanni': 1, 'ribisi': 1, 'omar': 1, ...}), 'neg'), (FreqDist({'movie': 7, 'babe': 6, 'city': 5, 'hogget': 5, 'film': 4, 'one': 4, 'pig': 4, 'mrs': 4, 'family': 3, 'kids': 3, ...}), 'neg'), (FreqDist({'summer': 7, 'sam': 6, 'movie': 5, 'film': 5, 'sorvino': 4, 'brody': 4, 'lee': 4, 'little': 4, 'vinny': 4, 'leguizamo': 3, ...}), 'neg'), (FreqDist({'film': 5, 'one': 4, 'house': 4, 'sex': 3, 'player': 3, 'friends': 3, 'naked': 3, 'breasts': 3, 'screen': 2, 'many': 2, ...}), 'neg'), (FreqDist({'moresco': 5, 'film': 4, 'one': 4, 'get': 4, 'us': 4, 'first': 3, 'feature': 3, 'movies': 3, 'might': 3, 'kids': 3, ...}), 'neg'), (FreqDist({'bronson': 10, 'movie': 9, 'kersey': 7, 'movies': 5, 'could': 5, 'played': 5, 'death': 4, 'fact': 3, 'one': 3, 'cannon': 3, ...}), 'neg'), (FreqDist({'gal': 9, 'old': 7, 'plot': 7, 'kingsley': 6, 'sexy': 5, 'beast': 5, 'film': 5, 'crime': 5, 'london': 4, 'one': 4, ...}), 'neg'), (FreqDist({'evil': 7, 'football': 7, 'movie': 5, 'moxxon': 4, 'high': 4, 'school': 4, 'though': 4, 'little': 4, 'quarterback': 3, 'coach': 3, ...}), 'neg'), (FreqDist({'tarzan': 19, 'lost': 10, 'movie': 8, 'city': 7, 'jungle': 7, 'one': 6, 'bad': 6, 'even': 6, 'jane': 6, 'like': 5, ...}), 'neg'), (FreqDist({'movie': 16, 'bang': 12, 'characters': 5, 'though': 5, 'people': 5, 'get': 5, 'one': 5, 'ship': 5, 'oh': 4, 'liner': 4, ...}), 'neg'), (FreqDist({'alessa': 12, 'art': 7, 'sweet': 3, 'vulnerable': 3, 'lee': 3, 'ben': 3, 'wants': 3, 'woo': 2, 'one': 2, 'like': 2, ...}), 'neg'), (FreqDist({'one': 6, 'movie': 6, 'well': 6, 'model': 5, 'see': 5, 'really': 4, 'freddie': 4, 'prinze': 4, 'jr': 4, 'plot': 3, ...}), 'neg'), (FreqDist({'bean': 8, 'film': 6, 'mr': 6, 'series': 5, 'away': 4, 'score': 4, 'would': 3, 'atkinson': 3, 'really': 3, 'even': 3, ...}), 'neg'), (FreqDist({'jakob': 14, 'ghetto': 6, 'williams': 5, 'liar': 5, 'hope': 5, 'one': 4, 'movie': 4, 'false': 4, 'robin': 3, 'film': 3, ...}), 'neg'), (FreqDist({'lesra': 7, 'brooding': 7, 'hurricane': 6, 'movie': 6, 'courtroom': 5, 'rubin': 4, 'oscar': 3, 'year': 3, 'jewison': 3, 'three': 3, ...}), 'neg'), (FreqDist({'mel': 7, 'movie': 6, 'brooks': 6, 'town': 5, 'would': 4, 'one': 4, 'black': 4, 'time': 3, 'thinking': 3, 'funny': 3, ...}), 'neg'), (FreqDist({'film': 7, 'caves': 5, 'e': 4, 'president': 4, 'good': 4, 'plot': 4, 'holes': 4, 'think': 3, 'story': 3, 'two': 3, ...}), 'neg'), (FreqDist({'time': 7, 'movie': 6, 'every': 6, 'film': 5, 'could': 5, 'fact': 4, 'minutes': 4, 'high': 4, 'sam': 4, 'yeah': 3, ...}), 'neg'), (FreqDist({'chinese': 7, 'gere': 7, 'film': 7, 'red': 6, 'corner': 6, 'jack': 5, 'way': 4, 'richard': 4, 'moore': 4, 'shen': 4, ...}), 'neg'), (FreqDist({'sci': 3, 'fi': 3, 'animated': 2, 'movie': 2, 'story': 2, 'characters': 2, 'galaxy': 2, 'fights': 2, 'much': 2, 'good': 1, ...}), 'neg'), (FreqDist({'apes': 7, 'leo': 3, 'davidson': 3, 'planet': 3, 'tim': 3, 'ari': 3, 'thade': 3, 'roth': 3, 'ape': 3, 'impressive': 3, ...}), 'neg'), (FreqDist({'deedles': 6, 'deedle': 5, 'park': 5, 'part': 4, 'meet': 4, 'instead': 4, 'ranger': 4, 'phil': 3, 'two': 3, 'surf': 3, ...}), 'neg'), (FreqDist({'speechless': 9, 'campaign': 6, 'one': 6, 'julia': 6, 'kevin': 5, 'king': 4, 'story': 3, 'romantic': 3, 'keaton': 3, 'davis': 3, ...}), 'neg'), (FreqDist({'film': 10, 'one': 10, 'high': 8, 'school': 8, 'never': 5, 'josie': 5, 'teenage': 4, 'two': 4, 'character': 4, 'movie': 4, ...}), 'neg'), (FreqDist({'walken': 4, 'film': 3, 'fallon': 3, 'crosses': 3, 'mobster': 2, 'kidnapped': 2, 'four': 2, 'rich': 2, 'woman': 2, 'another': 2, ...}), 'neg'), (FreqDist({'jolie': 5, 'movies': 4, 'tomb': 4, 'raider': 4, 'dead': 4, 'much': 4, 'action': 4, 'plot': 3, 'triangle': 3, 'father': 3, ...}), 'neg'), (FreqDist({'good': 12, 'bad': 11, 'movie': 10, 'even': 7, 'one': 6, 'really': 6, 'performance': 5, 'chris': 5, 'get': 5, 'movies': 4, ...}), 'neg'), (FreqDist({'reeves': 7, 'kids': 5, 'robbins': 4, 'hardball': 4, 'movie': 4, 'heartfelt': 3, 'never': 3, 'see': 3, 'mcglone': 3, 'like': 3, ...}), 'neg'), (FreqDist({'movie': 8, 'twin': 6, 'peaks': 6, 'lynch': 5, 'series': 4, 'tv': 4, 'laura': 4, 'palmer': 3, 'fire': 2, 'walk': 2, ...}), 'neg'), (FreqDist({'violet': 6, 'bar': 4, 'remember': 3, 'ugly': 3, 'goodman': 3, 'since': 3, 'coyote': 2, 'better': 2, 'perado': 2, 'bello': 2, ...}), 'neg'), (FreqDist({'movie': 5, 'judge': 4, 'office': 4, 'space': 4, 'plot': 4, 'work': 3, 'comedy': 2, 'one': 2, 'mistakes': 2, 'amateur': 2, ...}), 'neg'), (FreqDist({'film': 9, 'one': 7, 'cool': 6, 'stupid': 5, 'get': 5, 'part': 5, 'characters': 4, 'time': 4, 'disaster': 4, 'watching': 4, ...}), 'neg'), (FreqDist({'krippendorf': 9, 'tribe': 9, 'comedy': 5, 'new': 5, 'family': 4, 'effort': 4, 'professor': 4, 'film': 4, 'make': 3, 'way': 3, ...}), 'neg'), (FreqDist({'mission': 9, 'mars': 8, 'space': 6, 'movie': 4, 'still': 3, 'good': 3, 'de': 3, 'palma': 3, 'would': 3, 'sinise': 3, ...}), 'neg'), (FreqDist({'film': 7, 'ross': 7, 'actors': 6, 'years': 5, 'movie': 4, 'harry': 4, 'cop': 4, 'jack': 4, 'three': 3, 'time': 3, ...}), 'neg'), (FreqDist({'movie': 8, 'g': 7, 'film': 7, 'ricky': 6, 'people': 6, 'like': 6, 'good': 5, 'feel': 5, 'first': 5, 'even': 5, ...}), 'neg'), (FreqDist({'film': 23, 'like': 6, 'virus': 6, 'one': 6, 'sean': 6, 'action': 5, 'terrorists': 5, 'ethan': 5, 'mission': 4, 'impossible': 4, ...}), 'neg'), (FreqDist({'christmas': 6, 'cross': 6, 'minutes': 5, 'film': 5, 'scrooged': 4, 'effects': 4, 'also': 4, 'make': 4, 'look': 3, 'funny': 3, ...}), 'neg'), (FreqDist({'deep': 5, 'rising': 5, 'movie': 4, 'ship': 4, 'like': 3, 'monster': 3, 'argonautica': 3, 'finnegan': 3, 'williams': 3, 'even': 3, ...}), 'neg'), (FreqDist({'mandingo': 17, 'hammond': 15, 'film': 10, 'slave': 7, 'blanche': 7, 'slavery': 6, 'mede': 6, 'one': 5, 'movie': 5, 'slaves': 5, ...}), 'neg'), (FreqDist({'sword': 7, 'cromwell': 7, 'film': 7, 'xusia': 5, 'talon': 5, 'alana': 5, 'sorcerer': 4, 'scenes': 4, 'never': 4, 'take': 3, ...}), 'neg'), (FreqDist({'movie': 5, 'costumes': 3, 'potential': 3, 'seemed': 2, 'like': 2, 'yes': 2, 'sets': 2, 'pop': 2, 'played': 2, 'myers': 2, ...}), 'neg'), (FreqDist({'brenner': 8, 'military': 7, 'rape': 4, 'like': 3, 'investigating': 3, 'west': 3, 'point': 3, 'film': 2, 'officer': 2, 'paul': 2, ...}), 'neg'), (FreqDist({'heyst': 13, 'conrad': 7, 'alma': 6, 'jones': 6, 'film': 6, 'mr': 5, 'victory': 4, 'love': 4, 'relationship': 4, 'novel': 3, ...}), 'neg'), (FreqDist({'wild': 10, 'west': 9, 'smith': 6, 'also': 6, 'film': 6, 'kline': 5, 'even': 5, 'much': 4, 'nice': 4, 'one': 4, ...}), 'neg'), (FreqDist({'film': 10, 'mission': 8, 'one': 8, 'mars': 6, 'character': 6, 'like': 5, 'sinise': 4, 'robbins': 4, 'time': 4, 'movie': 4, ...}), 'neg'), (FreqDist({'fulci': 6, 'dead': 5, 'film': 5, 'city': 4, 'living': 4, 'films': 4, 'like': 3, 'bad': 3, 'mccoll': 3, 'day': 3, ...}), 'neg'), (FreqDist({'film': 25, 'characters': 10, 'character': 9, 'even': 9, 'party': 7, 'high': 6, 'school': 6, 'though': 6, 'denise': 5, 'everything': 5, ...}), 'neg'), (FreqDist({'film': 6, 'days': 5, 'life': 4, 'alcohol': 3, 'big': 3, 'thing': 3, 'important': 3, 'place': 3, 'like': 3, 'actually': 3, ...}), 'neg'), (FreqDist({'film': 8, 'would': 8, 'chris': 7, 'story': 6, 'thoughts': 5, 'question': 5, 'like': 5, 'special': 4, 'effects': 4, 'filmmakers': 4, ...}), 'neg'), (FreqDist({'movie': 7, 'even': 4, 'one': 3, 'good': 3, 'scene': 3, 'raiders': 2, 'lost': 2, 'ark': 2, 'jackie': 2, 'phantom': 2, ...}), 'neg'), (FreqDist({'film': 4, 'shakespeare': 3, 'work': 3, 'never': 3, 'filming': 3, 'tries': 3, 'luhrmann': 2, 'moved': 2, 'took': 2, 'read': 2, ...}), 'neg'), (FreqDist({'bad': 5, 'exorcist': 3, 'sequel': 3, 'like': 3, 'one': 3, 'regan': 3, 'demon': 3, 'film': 3, 'success': 2, 'make': 2, ...}), 'neg'), (FreqDist({'grant': 6, 'jurassic': 6, 'park': 6, 'kirbys': 4, 'young': 4, 'new': 4, 'dr': 3, 'man': 3, 'lost': 3, 'iii': 3, ...}), 'neg'), (FreqDist({'film': 10, 'kline': 7, 'time': 5, 'brackett': 4, 'wedding': 4, 'even': 3, 'trailer': 3, 'like': 3, 'however': 3, 'funny': 3, ...}), 'neg'), (FreqDist({'white': 4, 'black': 4, 'hype': 3, 'big': 2, 'boxing': 2, 'great': 2, 'pay': 2, 'champ': 2, 'vs': 2, 'spoof': 2, ...}), 'neg'), (FreqDist({'phone': 9, 'movie': 8, 'get': 5, 'characters': 5, 'denise': 5, 'calls': 4, 'net': 3, 'salwen': 3, 'call': 3, 'despite': 3, ...}), 'neg'), (FreqDist({'messenger': 10, 'besson': 8, 'jovovich': 7, 'story': 6, 'jeanne': 6, 'joan': 5, 'arc': 4, 'epic': 4, 'milla': 3, 'historical': 3, ...}), 'neg'), (FreqDist({'film': 9, 'even': 6, 'book': 5, 'one': 5, 'first': 5, 'movie': 5, 'shadows': 4, 'blair': 4, 'witch': 4, 'old': 4, ...}), 'neg'), (FreqDist({'kubrick': 7, 'bill': 7, 'alice': 6, 'director': 4, 'almost': 4, 'many': 3, 'wide': 3, 'shut': 3, 'film': 3, 'much': 3, ...}), 'neg'), (FreqDist({'novalee': 5, 'one': 4, 'film': 3, 'heart': 3, 'boyfriend': 3, 'wal': 3, 'mart': 3, 'characters': 2, 'acting': 2, 'family': 2, ...}), 'neg'), (FreqDist({'message': 8, 'film': 7, 'costner': 5, 'bottle': 5, 'theresa': 5, 'also': 4, 'garret': 4, 'one': 4, 'simply': 4, 'di': 3, ...}), 'neg'), (FreqDist({'hanging': 9, 'sisters': 5, 'ryan': 4, 'time': 4, 'melodramatic': 3, 'film': 3, 'keaton': 3, 'kudrow': 3, 'matthau': 3, 'character': 3, ...}), 'neg'), (FreqDist({'film': 8, 'movie': 5, 'one': 5, 'rooms': 4, 'four': 4, 'tarantino': 4, 'jennifer': 3, 'beals': 3, 'antonio': 3, 'banderas': 3, ...}), 'neg'), (FreqDist({'king': 11, 'anna': 9, 'movie': 5, 'comes': 4, 'siam': 4, 'foster': 3, 'british': 3, 'yun': 3, 'fat': 3, 'ways': 3, ...}), 'neg'), (FreqDist({'like': 6, 'movie': 6, 'one': 5, 'liz': 5, 'make': 4, 'funny': 4, 'fab': 3, 'jawbreaker': 3, 'bad': 3, 'taste': 3, ...}), 'neg'), (FreqDist({'movie': 8, 'robin': 5, 'mel': 5, 'brooks': 5, 'dialogue': 5, 'none': 4, 'could': 4, 'scenes': 4, 'man': 4, 'richard': 4, ...}), 'neg'), (FreqDist({'danes': 5, 'ribisi': 5, 'squad': 4, 'epps': 4, 'anything': 3, 'even': 3, 'mod': 3, 'three': 3, 'characters': 3, 'played': 3, ...}), 'neg'), (FreqDist({'commander': 8, 'wing': 7, 'like': 4, 'prinze': 3, 'video': 2, 'game': 2, 'feature': 2, 'fighter': 2, 'kind': 2, 'minutes': 2, ...}), 'neg'), (FreqDist({'scream': 19, 'ghostface': 7, 'craven': 5, 'film': 4, 'sidney': 4, 'cotton': 3, 'weary': 3, 'next': 3, 'movie': 3, 'stab': 3, ...}), 'neg'), (FreqDist({'big': 3, 'cigarettes': 3, 'love': 3, 'rudd': 3, 'two': 3, 'best': 3, 'good': 3, 'new': 2, 'would': 2, 'yet': 2, ...}), 'neg'), (FreqDist({'king': 22, 'film': 7, 'etc': 6, 'animated': 5, 'anna': 5, 'would': 4, 'worst': 4, 'movie': 4, 'richardson': 3, 'children': 3, ...}), 'neg'), (FreqDist({'batman': 7, 'film': 6, 'really': 6, 'like': 4, 'much': 4, 'films': 4, 'first': 3, 'clooney': 2, 'schwarzenegger': 2, 'well': 2, ...}), 'neg'), (FreqDist({'krippendorf': 10, 'tribe': 8, 'dreyfuss': 4, 'like': 4, 'level': 3, 'professor': 3, 'college': 3, 'much': 3, 'quality': 2, 'everyone': 2, ...}), 'neg'), (FreqDist({'stigmata': 13, 'film': 13, 'frankie': 8, 'one': 7, 'church': 6, 'like': 6, 'story': 6, 'catholic': 6, 'priest': 5, 'father': 5, ...}), 'neg'), (FreqDist({'boorman': 12, 'zardoz': 10, 'movie': 8, 'one': 7, 'like': 7, 'film': 6, 'made': 5, 'connery': 4, 'people': 4, 'immortals': 4, ...}), 'neg'), (FreqDist({'pay': 10, 'forward': 10, 'film': 9, 'one': 8, 'like': 7, 'even': 6, 'hunt': 6, 'good': 5, 'movie': 5, 'though': 5, ...}), 'neg'), (FreqDist({'carpenter': 9, 'vampires': 5, 'john': 4, 'story': 4, 'time': 3, 'film': 3, 'made': 3, 'even': 3, 'like': 3, 'crow': 3, ...}), 'neg'), (FreqDist({'wedding': 9, 'film': 8, 'singer': 6, 'adam': 4, 'sandler': 4, 'one': 4, 'plot': 4, 'nice': 4, 'julia': 4, 'guy': 3, ...}), 'neg'), (FreqDist({'one': 6, 'guys': 5, 'roxbury': 5, 'film': 5, 'characters': 4, 'bob': 3, 'heads': 3, 'love': 3, 'sketch': 3, 'would': 3, ...}), 'neg'), (FreqDist({'film': 9, 'general': 7, 'west': 7, 'good': 6, 'brenner': 6, 'get': 6, 'scene': 5, 'story': 5, 'movie': 5, 'even': 5, ...}), 'neg'), (FreqDist({'instinct': 8, 'caulder': 8, 'tarzan': 6, 'man': 6, 'film': 6, 'hopkins': 6, 'prison': 6, 'powell': 5, 'gorillas': 5, 'two': 5, ...}), 'neg'), (FreqDist({'movie': 9, 'given': 8, 'city': 7, 'noir': 6, 'plot': 6, 'dark': 5, 'go': 4, 'get': 4, 'sewell': 4, 'man': 4, ...}), 'neg'), (FreqDist({'robbie': 5, 'wedding': 3, 'singer': 3, 'julia': 3, 'idol': 3, 'nostalgia': 2, 'make': 2, 'seems': 2, 'funny': 2, 'adam': 2, ...}), 'neg'), (FreqDist({'movie': 17, 'vacation': 15, 'vegas': 10, 'first': 7, 'would': 7, 'like': 7, 'series': 7, 'two': 6, 'national': 5, 'lampoon': 5, ...}), 'neg')]\n"
          ]
        }
      ]
    },
    {
      "cell_type": "code",
      "metadata": {
        "colab": {
          "base_uri": "https://localhost:8080/"
        },
        "id": "7n5sCnFEvn36",
        "outputId": "c5d66de7-c922-4f58-dacf-a2361bef1ed2"
      },
      "source": [
        "#SimpleClassifier_mf accuracy\n",
        "score2=classifier_evaluate(classifier_mf,testing_data)\n",
        "print(score2)"
      ],
      "execution_count": 14,
      "outputs": [
        {
          "output_type": "stream",
          "name": "stdout",
          "text": [
            "0.5983333333333334\n"
          ]
        }
      ]
    },
    {
      "cell_type": "code",
      "metadata": {
        "id": "7N3X2d0aoMME",
        "colab": {
          "base_uri": "https://localhost:8080/"
        },
        "outputId": "2548b5d4-e343-4f7f-faec-446bd45cb536"
      },
      "source": [
        "#Creating a confusion Matrix class to calculate number of TP,TN,FP,FN  of SimpleClassifier to use in further calculatoins of precision, recall and F1-score\n",
        "class ConfusionMatrix:\n",
        "    def __init__(self,predictions,goldstandard,classes=(\"pos\",\"neg\")):\n",
        "    \n",
        "        (self.c1,self.c2)=classes\n",
        "        self.TP=0\n",
        "        self.FP=0\n",
        "        self.FN=0\n",
        "        self.TN=0\n",
        "        for p,g in zip(predictions,goldstandard):\n",
        "            if g==self.c1:\n",
        "                if p==self.c1:\n",
        "                    self.TP+=1\n",
        "                else:\n",
        "                    self.FN+=1\n",
        "        \n",
        "            elif p==self.c1:\n",
        "                self.FP+=1\n",
        "            else:\n",
        "                self.TN+=1\n",
        "        \n",
        "    \n",
        "    def precision(self): # Calculating Precision\n",
        "        p=0\n",
        "        p = self.TP / (self.TP + self.FP)\n",
        "    \n",
        "        return p\n",
        "  \n",
        "    def recall(self): #Calculating Recall\n",
        "        r=0\n",
        "        r= self.TP/(self.TP + self.FN)\n",
        "    \n",
        "        return r\n",
        "  \n",
        "    def f1(self): # Calculating F1-score\n",
        "        f1=0\n",
        "        f1=(2*(self.TP / (self.TP + self.FP))*(self.TP/(self.TP + self.FN)))/((self.TP / (self.TP + self.FP))+(self.TP/(self.TP + self.FN)))\n",
        "      \n",
        "        return f1 \n",
        "\n",
        "docs,labels=zip(*testing_data) # docs is the text itself and labels are either pos or neg\n",
        "senti_cm=ConfusionMatrix(classifier.classify_many(docs),labels)\n",
        "print(f'number of True Positives = {senti_cm.TP}')\n",
        "print(f'number of False Positives = {senti_cm.FP}')\n",
        "print(f'number of True Negatives = {senti_cm.TN}')\n",
        "print(f'number of False Negatives = {senti_cm.FN}')"
      ],
      "execution_count": 15,
      "outputs": [
        {
          "output_type": "stream",
          "name": "stdout",
          "text": [
            "number of True Positives = 286\n",
            "number of False Positives = 217\n",
            "number of True Negatives = 83\n",
            "number of False Negatives = 14\n"
          ]
        }
      ]
    },
    {
      "cell_type": "code",
      "metadata": {
        "colab": {
          "base_uri": "https://localhost:8080/"
        },
        "id": "c09DuxIxIR4C",
        "outputId": "a82a19b0-c942-47c1-845a-667869260d0c"
      },
      "source": [
        "#Now claculating Precision, Recall and F1-Score for the SimpleClassifier\n",
        "print(f'Precision of the classifier = {senti_cm.precision()}')\n",
        "print(f'Recall of the classifier = {senti_cm.recall()}')\n",
        "print(f'F1-Score of the classifier = {senti_cm.f1()}')"
      ],
      "execution_count": 16,
      "outputs": [
        {
          "output_type": "stream",
          "name": "stdout",
          "text": [
            "Precision of the classifier = 0.5685884691848907\n",
            "Recall of the classifier = 0.9533333333333334\n",
            "F1-Score of the classifier = 0.7123287671232876\n"
          ]
        }
      ]
    },
    {
      "cell_type": "markdown",
      "metadata": {
        "id": "AU_ptJc_oMMF"
      },
      "source": [
        "###Question 3)b)\n",
        "\n",
        "The answer to this question can be found in the data itself, now our testing data is split equally between positive and negative reviews(300 of each), on the other hand our predicted classes have skewness or class imbalance in them, in other words our classifier is calssifying documents incorrectly and putting them in the wrong calss(TP,FP,FN,TN). So due to this class imbalance or skweness it is not recommended to use accuracy as the evaluation metric for our classifier's predications. The preferred metrics would be precisoin , recall and F1-score which truly bring out the calssification results compared to accuracy which doesn't in a case of class imbalance.\n",
        "\n",
        "Now this is the situation with real world data, almost all the time our data would have some kind of skewness or class imbalance, and in this case precision,recall and F1-score would be our go to evaluation metrics. On the other hand, if we have a balanced data set( i.e the number of calsses is the same for instance in a binary calssification problem), then it is fine to use accuracy as an evaluatoin metric, because there wouldn't be any class missbalance or skewness.\n",
        "\n"
      ]
    },
    {
      "cell_type": "markdown",
      "metadata": {
        "id": "LIS9UpmJNEAp"
      },
      "source": [
        "4) \n",
        "a)  **Construct** a Naive Bayes classifier (e.g., from NLTK).\n",
        "\n",
        "b)  **Compare** the performance of your word list classifier with the Naive Bayes classifier.  **Discuss** your results. \n",
        "\n",
        "[12.5\\%]"
      ]
    },
    {
      "cell_type": "code",
      "metadata": {
        "id": "ka5yYPiFoMMH"
      },
      "source": [
        "from nltk.classify import  NaiveBayesClassifier\n",
        "Nltk_NB=NaiveBayesClassifier.train(training_data)"
      ],
      "execution_count": 17,
      "outputs": []
    },
    {
      "cell_type": "code",
      "metadata": {
        "id": "xLWEKxnpoMMI",
        "colab": {
          "base_uri": "https://localhost:8080/"
        },
        "outputId": "4fdbdcbb-0198-4b11-a6fa-793f68399517"
      },
      "source": [
        "Nltk_NB.classify_many(docs)"
      ],
      "execution_count": 18,
      "outputs": [
        {
          "output_type": "execute_result",
          "data": {
            "text/plain": [
              "['pos',\n",
              " 'pos',\n",
              " 'pos',\n",
              " 'pos',\n",
              " 'pos',\n",
              " 'pos',\n",
              " 'pos',\n",
              " 'pos',\n",
              " 'pos',\n",
              " 'pos',\n",
              " 'pos',\n",
              " 'pos',\n",
              " 'pos',\n",
              " 'pos',\n",
              " 'pos',\n",
              " 'pos',\n",
              " 'pos',\n",
              " 'pos',\n",
              " 'pos',\n",
              " 'pos',\n",
              " 'pos',\n",
              " 'pos',\n",
              " 'pos',\n",
              " 'pos',\n",
              " 'neg',\n",
              " 'pos',\n",
              " 'pos',\n",
              " 'pos',\n",
              " 'pos',\n",
              " 'pos',\n",
              " 'pos',\n",
              " 'pos',\n",
              " 'pos',\n",
              " 'pos',\n",
              " 'pos',\n",
              " 'pos',\n",
              " 'neg',\n",
              " 'pos',\n",
              " 'pos',\n",
              " 'pos',\n",
              " 'pos',\n",
              " 'pos',\n",
              " 'pos',\n",
              " 'pos',\n",
              " 'pos',\n",
              " 'pos',\n",
              " 'pos',\n",
              " 'pos',\n",
              " 'pos',\n",
              " 'pos',\n",
              " 'pos',\n",
              " 'pos',\n",
              " 'pos',\n",
              " 'pos',\n",
              " 'pos',\n",
              " 'pos',\n",
              " 'neg',\n",
              " 'pos',\n",
              " 'pos',\n",
              " 'pos',\n",
              " 'pos',\n",
              " 'pos',\n",
              " 'pos',\n",
              " 'pos',\n",
              " 'pos',\n",
              " 'pos',\n",
              " 'pos',\n",
              " 'pos',\n",
              " 'pos',\n",
              " 'pos',\n",
              " 'pos',\n",
              " 'pos',\n",
              " 'pos',\n",
              " 'pos',\n",
              " 'pos',\n",
              " 'pos',\n",
              " 'pos',\n",
              " 'pos',\n",
              " 'pos',\n",
              " 'pos',\n",
              " 'pos',\n",
              " 'pos',\n",
              " 'pos',\n",
              " 'pos',\n",
              " 'neg',\n",
              " 'pos',\n",
              " 'pos',\n",
              " 'pos',\n",
              " 'pos',\n",
              " 'pos',\n",
              " 'pos',\n",
              " 'pos',\n",
              " 'pos',\n",
              " 'pos',\n",
              " 'pos',\n",
              " 'pos',\n",
              " 'pos',\n",
              " 'pos',\n",
              " 'pos',\n",
              " 'pos',\n",
              " 'pos',\n",
              " 'pos',\n",
              " 'pos',\n",
              " 'pos',\n",
              " 'pos',\n",
              " 'pos',\n",
              " 'pos',\n",
              " 'pos',\n",
              " 'pos',\n",
              " 'pos',\n",
              " 'pos',\n",
              " 'pos',\n",
              " 'pos',\n",
              " 'pos',\n",
              " 'pos',\n",
              " 'neg',\n",
              " 'pos',\n",
              " 'pos',\n",
              " 'pos',\n",
              " 'pos',\n",
              " 'pos',\n",
              " 'pos',\n",
              " 'pos',\n",
              " 'pos',\n",
              " 'pos',\n",
              " 'pos',\n",
              " 'pos',\n",
              " 'pos',\n",
              " 'pos',\n",
              " 'pos',\n",
              " 'pos',\n",
              " 'pos',\n",
              " 'pos',\n",
              " 'pos',\n",
              " 'pos',\n",
              " 'pos',\n",
              " 'pos',\n",
              " 'pos',\n",
              " 'pos',\n",
              " 'pos',\n",
              " 'pos',\n",
              " 'pos',\n",
              " 'pos',\n",
              " 'pos',\n",
              " 'pos',\n",
              " 'pos',\n",
              " 'pos',\n",
              " 'pos',\n",
              " 'pos',\n",
              " 'pos',\n",
              " 'pos',\n",
              " 'pos',\n",
              " 'pos',\n",
              " 'pos',\n",
              " 'pos',\n",
              " 'pos',\n",
              " 'pos',\n",
              " 'pos',\n",
              " 'pos',\n",
              " 'pos',\n",
              " 'pos',\n",
              " 'pos',\n",
              " 'pos',\n",
              " 'pos',\n",
              " 'pos',\n",
              " 'pos',\n",
              " 'pos',\n",
              " 'pos',\n",
              " 'pos',\n",
              " 'pos',\n",
              " 'pos',\n",
              " 'pos',\n",
              " 'pos',\n",
              " 'pos',\n",
              " 'pos',\n",
              " 'pos',\n",
              " 'pos',\n",
              " 'pos',\n",
              " 'pos',\n",
              " 'pos',\n",
              " 'pos',\n",
              " 'pos',\n",
              " 'pos',\n",
              " 'pos',\n",
              " 'pos',\n",
              " 'pos',\n",
              " 'pos',\n",
              " 'pos',\n",
              " 'pos',\n",
              " 'pos',\n",
              " 'pos',\n",
              " 'pos',\n",
              " 'pos',\n",
              " 'pos',\n",
              " 'pos',\n",
              " 'pos',\n",
              " 'pos',\n",
              " 'pos',\n",
              " 'pos',\n",
              " 'pos',\n",
              " 'pos',\n",
              " 'pos',\n",
              " 'pos',\n",
              " 'pos',\n",
              " 'neg',\n",
              " 'neg',\n",
              " 'pos',\n",
              " 'pos',\n",
              " 'pos',\n",
              " 'pos',\n",
              " 'pos',\n",
              " 'pos',\n",
              " 'pos',\n",
              " 'pos',\n",
              " 'pos',\n",
              " 'pos',\n",
              " 'pos',\n",
              " 'pos',\n",
              " 'pos',\n",
              " 'pos',\n",
              " 'pos',\n",
              " 'pos',\n",
              " 'pos',\n",
              " 'pos',\n",
              " 'pos',\n",
              " 'pos',\n",
              " 'pos',\n",
              " 'pos',\n",
              " 'neg',\n",
              " 'pos',\n",
              " 'pos',\n",
              " 'pos',\n",
              " 'pos',\n",
              " 'pos',\n",
              " 'pos',\n",
              " 'pos',\n",
              " 'pos',\n",
              " 'pos',\n",
              " 'pos',\n",
              " 'pos',\n",
              " 'pos',\n",
              " 'pos',\n",
              " 'pos',\n",
              " 'pos',\n",
              " 'pos',\n",
              " 'pos',\n",
              " 'pos',\n",
              " 'pos',\n",
              " 'pos',\n",
              " 'pos',\n",
              " 'pos',\n",
              " 'pos',\n",
              " 'pos',\n",
              " 'pos',\n",
              " 'pos',\n",
              " 'neg',\n",
              " 'pos',\n",
              " 'pos',\n",
              " 'pos',\n",
              " 'pos',\n",
              " 'pos',\n",
              " 'pos',\n",
              " 'pos',\n",
              " 'pos',\n",
              " 'pos',\n",
              " 'pos',\n",
              " 'pos',\n",
              " 'pos',\n",
              " 'pos',\n",
              " 'pos',\n",
              " 'pos',\n",
              " 'pos',\n",
              " 'neg',\n",
              " 'pos',\n",
              " 'pos',\n",
              " 'pos',\n",
              " 'pos',\n",
              " 'pos',\n",
              " 'pos',\n",
              " 'pos',\n",
              " 'pos',\n",
              " 'pos',\n",
              " 'pos',\n",
              " 'pos',\n",
              " 'pos',\n",
              " 'pos',\n",
              " 'pos',\n",
              " 'pos',\n",
              " 'pos',\n",
              " 'pos',\n",
              " 'pos',\n",
              " 'pos',\n",
              " 'pos',\n",
              " 'pos',\n",
              " 'pos',\n",
              " 'pos',\n",
              " 'pos',\n",
              " 'pos',\n",
              " 'pos',\n",
              " 'pos',\n",
              " 'neg',\n",
              " 'neg',\n",
              " 'neg',\n",
              " 'pos',\n",
              " 'neg',\n",
              " 'neg',\n",
              " 'pos',\n",
              " 'pos',\n",
              " 'pos',\n",
              " 'pos',\n",
              " 'neg',\n",
              " 'pos',\n",
              " 'pos',\n",
              " 'pos',\n",
              " 'pos',\n",
              " 'neg',\n",
              " 'pos',\n",
              " 'pos',\n",
              " 'neg',\n",
              " 'neg',\n",
              " 'neg',\n",
              " 'neg',\n",
              " 'pos',\n",
              " 'neg',\n",
              " 'pos',\n",
              " 'neg',\n",
              " 'pos',\n",
              " 'pos',\n",
              " 'neg',\n",
              " 'neg',\n",
              " 'neg',\n",
              " 'neg',\n",
              " 'pos',\n",
              " 'neg',\n",
              " 'pos',\n",
              " 'pos',\n",
              " 'neg',\n",
              " 'pos',\n",
              " 'pos',\n",
              " 'neg',\n",
              " 'pos',\n",
              " 'neg',\n",
              " 'pos',\n",
              " 'neg',\n",
              " 'neg',\n",
              " 'neg',\n",
              " 'pos',\n",
              " 'neg',\n",
              " 'pos',\n",
              " 'pos',\n",
              " 'pos',\n",
              " 'neg',\n",
              " 'pos',\n",
              " 'pos',\n",
              " 'pos',\n",
              " 'pos',\n",
              " 'pos',\n",
              " 'pos',\n",
              " 'pos',\n",
              " 'pos',\n",
              " 'pos',\n",
              " 'neg',\n",
              " 'neg',\n",
              " 'neg',\n",
              " 'pos',\n",
              " 'pos',\n",
              " 'pos',\n",
              " 'pos',\n",
              " 'pos',\n",
              " 'neg',\n",
              " 'neg',\n",
              " 'pos',\n",
              " 'pos',\n",
              " 'pos',\n",
              " 'pos',\n",
              " 'pos',\n",
              " 'pos',\n",
              " 'neg',\n",
              " 'pos',\n",
              " 'neg',\n",
              " 'pos',\n",
              " 'pos',\n",
              " 'pos',\n",
              " 'neg',\n",
              " 'neg',\n",
              " 'pos',\n",
              " 'pos',\n",
              " 'pos',\n",
              " 'pos',\n",
              " 'pos',\n",
              " 'neg',\n",
              " 'pos',\n",
              " 'pos',\n",
              " 'pos',\n",
              " 'pos',\n",
              " 'neg',\n",
              " 'pos',\n",
              " 'neg',\n",
              " 'neg',\n",
              " 'neg',\n",
              " 'neg',\n",
              " 'neg',\n",
              " 'neg',\n",
              " 'pos',\n",
              " 'pos',\n",
              " 'pos',\n",
              " 'pos',\n",
              " 'pos',\n",
              " 'pos',\n",
              " 'pos',\n",
              " 'neg',\n",
              " 'pos',\n",
              " 'pos',\n",
              " 'neg',\n",
              " 'pos',\n",
              " 'neg',\n",
              " 'pos',\n",
              " 'pos',\n",
              " 'neg',\n",
              " 'neg',\n",
              " 'pos',\n",
              " 'neg',\n",
              " 'neg',\n",
              " 'neg',\n",
              " 'pos',\n",
              " 'pos',\n",
              " 'pos',\n",
              " 'pos',\n",
              " 'pos',\n",
              " 'pos',\n",
              " 'pos',\n",
              " 'pos',\n",
              " 'pos',\n",
              " 'neg',\n",
              " 'pos',\n",
              " 'pos',\n",
              " 'neg',\n",
              " 'pos',\n",
              " 'neg',\n",
              " 'pos',\n",
              " 'neg',\n",
              " 'pos',\n",
              " 'pos',\n",
              " 'pos',\n",
              " 'pos',\n",
              " 'neg',\n",
              " 'pos',\n",
              " 'pos',\n",
              " 'pos',\n",
              " 'neg',\n",
              " 'pos',\n",
              " 'neg',\n",
              " 'neg',\n",
              " 'pos',\n",
              " 'pos',\n",
              " 'neg',\n",
              " 'neg',\n",
              " 'pos',\n",
              " 'neg',\n",
              " 'neg',\n",
              " 'pos',\n",
              " 'pos',\n",
              " 'pos',\n",
              " 'neg',\n",
              " 'pos',\n",
              " 'pos',\n",
              " 'pos',\n",
              " 'neg',\n",
              " 'neg',\n",
              " 'pos',\n",
              " 'neg',\n",
              " 'neg',\n",
              " 'pos',\n",
              " 'neg',\n",
              " 'pos',\n",
              " 'neg',\n",
              " 'pos',\n",
              " 'neg',\n",
              " 'pos',\n",
              " 'pos',\n",
              " 'pos',\n",
              " 'neg',\n",
              " 'pos',\n",
              " 'neg',\n",
              " 'neg',\n",
              " 'pos',\n",
              " 'pos',\n",
              " 'pos',\n",
              " 'neg',\n",
              " 'pos',\n",
              " 'neg',\n",
              " 'neg',\n",
              " 'neg',\n",
              " 'pos',\n",
              " 'pos',\n",
              " 'neg',\n",
              " 'neg',\n",
              " 'pos',\n",
              " 'neg',\n",
              " 'pos',\n",
              " 'pos',\n",
              " 'pos',\n",
              " 'pos',\n",
              " 'neg',\n",
              " 'pos',\n",
              " 'pos',\n",
              " 'neg',\n",
              " 'neg',\n",
              " 'pos',\n",
              " 'pos',\n",
              " 'neg',\n",
              " 'pos',\n",
              " 'pos',\n",
              " 'pos',\n",
              " 'pos',\n",
              " 'neg',\n",
              " 'pos',\n",
              " 'pos',\n",
              " 'pos',\n",
              " 'pos',\n",
              " 'pos',\n",
              " 'pos',\n",
              " 'neg',\n",
              " 'neg',\n",
              " 'neg',\n",
              " 'pos',\n",
              " 'neg',\n",
              " 'pos',\n",
              " 'pos',\n",
              " 'pos',\n",
              " 'neg',\n",
              " 'pos',\n",
              " 'pos',\n",
              " 'pos',\n",
              " 'pos',\n",
              " 'pos',\n",
              " 'neg',\n",
              " 'pos',\n",
              " 'pos',\n",
              " 'pos',\n",
              " 'pos',\n",
              " 'neg',\n",
              " 'neg',\n",
              " 'pos',\n",
              " 'pos',\n",
              " 'neg',\n",
              " 'pos',\n",
              " 'pos',\n",
              " 'pos',\n",
              " 'pos',\n",
              " 'neg',\n",
              " 'pos',\n",
              " 'pos',\n",
              " 'neg',\n",
              " 'pos',\n",
              " 'pos',\n",
              " 'pos',\n",
              " 'pos',\n",
              " 'pos',\n",
              " 'neg',\n",
              " 'pos',\n",
              " 'pos',\n",
              " 'pos',\n",
              " 'pos',\n",
              " 'pos',\n",
              " 'neg',\n",
              " 'pos',\n",
              " 'neg',\n",
              " 'pos',\n",
              " 'pos',\n",
              " 'neg',\n",
              " 'pos',\n",
              " 'pos',\n",
              " 'pos',\n",
              " 'pos',\n",
              " 'pos',\n",
              " 'pos',\n",
              " 'pos',\n",
              " 'neg',\n",
              " 'pos',\n",
              " 'neg',\n",
              " 'pos',\n",
              " 'pos',\n",
              " 'neg',\n",
              " 'pos',\n",
              " 'neg',\n",
              " 'pos',\n",
              " 'neg',\n",
              " 'pos',\n",
              " 'pos',\n",
              " 'pos',\n",
              " 'pos',\n",
              " 'neg',\n",
              " 'pos',\n",
              " 'pos',\n",
              " 'pos',\n",
              " 'pos',\n",
              " 'pos',\n",
              " 'neg',\n",
              " 'pos']"
            ]
          },
          "metadata": {},
          "execution_count": 18
        }
      ]
    },
    {
      "cell_type": "code",
      "metadata": {
        "colab": {
          "base_uri": "https://localhost:8080/"
        },
        "id": "ACybLmNVoP0v",
        "outputId": "883224fd-fc23-46fb-80a5-cca85580efcf"
      },
      "source": [
        "cm=ConfusionMatrix(Nltk_NB.classify_many(docs),labels,classes=('pos','neg'))\n",
        "print(cm.precision())\n",
        "print(cm.recall())\n",
        "print(cm.f1()) \n"
      ],
      "execution_count": 19,
      "outputs": [
        {
          "output_type": "stream",
          "name": "stdout",
          "text": [
            "0.6016597510373444\n",
            "0.9666666666666667\n",
            "0.7416879795396418\n"
          ]
        }
      ]
    },
    {
      "cell_type": "code",
      "metadata": {
        "colab": {
          "base_uri": "https://localhost:8080/"
        },
        "id": "wLK_YJsOpMlb",
        "outputId": "e7200351-a81a-4021-a475-ab5e5743ec1d"
      },
      "source": [
        "print(nltk.classify.accuracy(Nltk_NB,testing_data))"
      ],
      "execution_count": 20,
      "outputs": [
        {
          "output_type": "stream",
          "name": "stdout",
          "text": [
            "0.6633333333333333\n"
          ]
        }
      ]
    },
    {
      "cell_type": "markdown",
      "metadata": {
        "id": "oKdXUKI7oMMI"
      },
      "source": [
        "#Question 4)b)\n",
        "\n",
        "As it appears the NLTK Naive Bayes classifier seems to do slightly better when it comes to all evaluation metrics including accuracy ,keeping in mind we have class imbalance so the concern here will be other evaluation metrics rather than accuracy , which also the Naive Bayes classifier is doing better at. In our case the I think that we should aim to get higher precisoin , but we also want higher recall , that is where the compensation part comes by calculating the F1-score which takes into account both of the measures. Anyways the Naive bayes classifier has higher values in all of the above mentioned metrcis, having a higher precision measure how exact the classifier is at prediciting the data, meaning less false positives .\n",
        "\n",
        "So one of the reasons NLTK Naive Bayes classifier is doing better may be because it is one of the fancy classifiers built by experts in the text/sentiment ananlysis field, and also it was trained on big amounts of data to be able to predict the data more correctly compared to our own built classifier which was only trained on this data set provided, and by that the NLTK classifier is giving us better results. both classifiers will give good results up to a certain extent then there will be a fall back in the quality of the predictions as we will see in the next part of this report."
      ]
    },
    {
      "cell_type": "markdown",
      "metadata": {
        "id": "LGDXaVDqOSfY"
      },
      "source": [
        "5) \n",
        "a) Design and **carry out an experiment** into the impact of the **length of the wordlists** on the wordlist classifier.  Make sure you **describe** design decisions in your experiment, include a **graph** of your results and **discuss** your conclusions. \n",
        "\n",
        "b) Would you **recommend** a wordlist classifier or a Naive Bayes classifier for future work in this area?  **Justify** your answer.\n",
        "\n",
        "[25\\%]\n"
      ]
    },
    {
      "cell_type": "markdown",
      "metadata": {
        "id": "8RPLKio2oMMJ"
      },
      "source": [
        ""
      ]
    },
    {
      "cell_type": "code",
      "metadata": {
        "id": "lwfJyYYFoMMK",
        "colab": {
          "base_uri": "https://localhost:8080/"
        },
        "outputId": "eb17c02d-1e67-4171-ec61-4ff9990e9fd7"
      },
      "source": [
        "from random import sample\n",
        "\n",
        "classifiers={\"modified word list classifier\":classifier_mf,            \n",
        "             \"Naive Bayes Classifier\":Nltk_NB}\n",
        "number_of_runs=3\n",
        "sample_sizes=[1,10,50,100,200,400,600, 700]\n",
        "results={}\n",
        "\n",
        "for size in sample_sizes:\n",
        "    res={}\n",
        "\n",
        "    for i in range(number_of_runs):\n",
        "        training,testing=get_train_test_data()\n",
        "        \n",
        "        positive_training=[(doc,label) for (doc,label) in training if label==\"pos\"]\n",
        "        negative_training=[(doc,label) for (doc,label) in training if label==\"neg\"]\n",
        "        training_sample=sample(positive_training,size)+sample(negative_training,size)\n",
        "        for name,classifier in classifiers.items():\n",
        "      \n",
        "            classifier.train(training_sample)\n",
        "            accuracy=classifier_evaluate(classifier,testing)\n",
        "            #print(\"The accuracy of {} classifier with training sample size {} is {}\".format(name,size, accuracy))\n",
        "            res[name]=res.get(name,0)+accuracy/number_of_runs\n",
        "    results[size]=res\n",
        "\n",
        "    \n",
        "results\n",
        "\n",
        "\n",
        "    \n",
        "#Note:this cell will take a good amout of time to run!"
      ],
      "execution_count": 21,
      "outputs": [
        {
          "output_type": "execute_result",
          "data": {
            "text/plain": [
              "{1: {'Naive Bayes Classifier': 0.9022222222222223,\n",
              "  'modified word list classifier': 0.5188888888888888},\n",
              " 10: {'Naive Bayes Classifier': 0.8883333333333333,\n",
              "  'modified word list classifier': 0.5927777777777777},\n",
              " 50: {'Naive Bayes Classifier': 0.9033333333333333,\n",
              "  'modified word list classifier': 0.5522222222222223},\n",
              " 100: {'Naive Bayes Classifier': 0.8961111111111111,\n",
              "  'modified word list classifier': 0.5655555555555556},\n",
              " 200: {'Naive Bayes Classifier': 0.8872222222222222,\n",
              "  'modified word list classifier': 0.6388888888888888},\n",
              " 400: {'Naive Bayes Classifier': 0.8894444444444445,\n",
              "  'modified word list classifier': 0.6322222222222222},\n",
              " 600: {'Naive Bayes Classifier': 0.8922222222222222,\n",
              "  'modified word list classifier': 0.6583333333333334},\n",
              " 700: {'Naive Bayes Classifier': 0.8916666666666666,\n",
              "  'modified word list classifier': 0.6405555555555555}}"
            ]
          },
          "metadata": {},
          "execution_count": 21
        }
      ]
    },
    {
      "cell_type": "code",
      "metadata": {
        "id": "vGWG5fIAoMMK",
        "colab": {
          "base_uri": "https://localhost:8080/",
          "height": 297
        },
        "outputId": "3bdf6002-6f95-4461-81ad-02eea0e7d17c"
      },
      "source": [
        "#Putting my results into a pandas dataframe \n",
        "df=pd.DataFrame(results)\n",
        "df=df.transpose()\n",
        "df"
      ],
      "execution_count": 22,
      "outputs": [
        {
          "output_type": "execute_result",
          "data": {
            "text/html": [
              "<div>\n",
              "<style scoped>\n",
              "    .dataframe tbody tr th:only-of-type {\n",
              "        vertical-align: middle;\n",
              "    }\n",
              "\n",
              "    .dataframe tbody tr th {\n",
              "        vertical-align: top;\n",
              "    }\n",
              "\n",
              "    .dataframe thead th {\n",
              "        text-align: right;\n",
              "    }\n",
              "</style>\n",
              "<table border=\"1\" class=\"dataframe\">\n",
              "  <thead>\n",
              "    <tr style=\"text-align: right;\">\n",
              "      <th></th>\n",
              "      <th>modified word list classifier</th>\n",
              "      <th>Naive Bayes Classifier</th>\n",
              "    </tr>\n",
              "  </thead>\n",
              "  <tbody>\n",
              "    <tr>\n",
              "      <th>1</th>\n",
              "      <td>0.518889</td>\n",
              "      <td>0.902222</td>\n",
              "    </tr>\n",
              "    <tr>\n",
              "      <th>10</th>\n",
              "      <td>0.592778</td>\n",
              "      <td>0.888333</td>\n",
              "    </tr>\n",
              "    <tr>\n",
              "      <th>50</th>\n",
              "      <td>0.552222</td>\n",
              "      <td>0.903333</td>\n",
              "    </tr>\n",
              "    <tr>\n",
              "      <th>100</th>\n",
              "      <td>0.565556</td>\n",
              "      <td>0.896111</td>\n",
              "    </tr>\n",
              "    <tr>\n",
              "      <th>200</th>\n",
              "      <td>0.638889</td>\n",
              "      <td>0.887222</td>\n",
              "    </tr>\n",
              "    <tr>\n",
              "      <th>400</th>\n",
              "      <td>0.632222</td>\n",
              "      <td>0.889444</td>\n",
              "    </tr>\n",
              "    <tr>\n",
              "      <th>600</th>\n",
              "      <td>0.658333</td>\n",
              "      <td>0.892222</td>\n",
              "    </tr>\n",
              "    <tr>\n",
              "      <th>700</th>\n",
              "      <td>0.640556</td>\n",
              "      <td>0.891667</td>\n",
              "    </tr>\n",
              "  </tbody>\n",
              "</table>\n",
              "</div>"
            ],
            "text/plain": [
              "     modified word list classifier  Naive Bayes Classifier\n",
              "1                         0.518889                0.902222\n",
              "10                        0.592778                0.888333\n",
              "50                        0.552222                0.903333\n",
              "100                       0.565556                0.896111\n",
              "200                       0.638889                0.887222\n",
              "400                       0.632222                0.889444\n",
              "600                       0.658333                0.892222\n",
              "700                       0.640556                0.891667"
            ]
          },
          "metadata": {},
          "execution_count": 22
        }
      ]
    },
    {
      "cell_type": "code",
      "metadata": {
        "id": "Onjg6uxLoMMK",
        "colab": {
          "base_uri": "https://localhost:8080/",
          "height": 312
        },
        "outputId": "d6ce0436-81fd-4a2f-b76c-159da3ba3db2"
      },
      "source": [
        "ax = df.plot(kind=\"line\",title=\"Experimental Results\")\n",
        "ax.set_ylabel(\"Accuracy\")\n",
        "ax.set_xlabel(\"Sample Size\")"
      ],
      "execution_count": 23,
      "outputs": [
        {
          "output_type": "execute_result",
          "data": {
            "text/plain": [
              "Text(0.5, 0, 'Sample Size')"
            ]
          },
          "metadata": {},
          "execution_count": 23
        },
        {
          "output_type": "display_data",
          "data": {
            "image/png": "[encoded data removed]",
            "text/plain": [
              "<Figure size 432x288 with 1 Axes>"
            ]
          },
          "metadata": {
            "needs_background": "light"
          }
        }
      ]
    },
    {
      "cell_type": "markdown",
      "metadata": {
        "id": "Z99OqTV1kYEj"
      },
      "source": [
        "#Question 5)a)\n",
        "\n",
        "Design Decisions were made randomly by selecting a range of training datasets for our classifiers to be trained on ranging from 1 up to a sample length word list of 700. Then we test both classifiers accuracy and record them against each sample size and will compare the outcomes of our experiment. "
      ]
    },
    {
      "cell_type": "markdown",
      "metadata": {
        "id": "MuThQUNSoMML"
      },
      "source": [
        "#Question 5)b)\n",
        "\n",
        "First of all it should be noted that in this experiment two classifiers were trained on different sample sized as shown in the code cell above , those two calssifiers which reslults' are going to be compared now are the SimpleClassifier_mf and the Naive Bayes classifier.\n",
        "\n",
        "The experiment was basically feeding both classifiers with different sizes of data and see how each classifier's accuracy changes with the amount of data fed.\n",
        "\n",
        "1)SimpleClassifier_mf:    \n",
        "\n",
        "From the pandas data frame and from the graph we can see that there is a good amount of fluctuation of the classifier's accuracy with changing sample size.\n",
        "the general overall trend of the accuracy seems to increase overall with increasing sample size, but in some trails the accuracy tends to fall when the sample size is increased (for example when the sample size is increased from 10 to 50), this may be due to something called overfitting where the classifier is had been trained too many times on the training data and it is finfing a hard time in making new predictions on the test data.Moving on, the optimal size of training data from the samples give seems to be a word list of length 600 which gives the best accuracy.Finally this experiment could be modified by using cross validatoin , but the problem is our testing data is already small, this would have made a difference on biggere data sets.\n",
        "\n",
        "2)Naive Bayes Classifier:    \n",
        "\n",
        "The Naive Bayes classifier doesn't seem to have a major fluctuation in accuracy with changing sample size , the difference in accuracy is almost negligable to mention, actually this is an extra point for this classifier as it does't seem to be affected by data size. which means it doesn't matter if we feed it small or big data it will almost give the same results. This is probably due to the reslut that this fancy classifier had been trained on multiple data sets with different sizes many times before.And the best accuracy reslut obtained was with the 50 sample size.\n",
        "\n",
        "##Conclusion:    \n",
        " \n",
        "of course the recommended practice would be using NLTK Naive Bayes classifier rather than the SimpleClassifer_mf which was coded maually, for the following reasons:    \n",
        "\n",
        "1) The NLTK library is a well known an widely used library for text/sentiment analysis which is used by many data scientists and big companies to build some advanced classification models, this is because NLTK was develped by experts in this field.\n",
        "\n",
        "2) The Naive Bayes is doing better with predicting the data in all aspects of the evaluation metrics regardelss of the data size fed to it as it can be seen from the graph.\n",
        "\n",
        "3) The SimpleClassifier_mf tends to have some fluctuations in accuracy and overall lower evaluatoin metrics when predicting the data.\n",
        "\n",
        "So in conclusoin the NLTK Naive Bayes classifier is the recommended classifier for use in this case and in cases of bigger data in this field of work.\n"
      ]
    },
    {
      "cell_type": "markdown",
      "metadata": {
        "id": "tIJMlVsqnM5C"
      },
      "source": [
        "#Resources\n",
        "\n",
        "https://medium.com/analytics-vidhya/what-is-balance-and-imbalance-dataset-89e8d7f46bc5\n",
        "\n",
        "https://towardsdatascience.com/precision-and-recall-a-simplified-view-bc25978d81e6\n",
        "\n"
      ]
    },
    {
      "cell_type": "code",
      "metadata": {
        "id": "34rdlS_iPov6",
        "colab": {
          "base_uri": "https://localhost:8080/"
        },
        "outputId": "735100c8-eeae-4cc4-9321-38c65a13ec2f"
      },
      "source": [
        "##This code will word count all of the markdown cells in the notebook saved at filepath\n",
        "##Running it before providing any answers shows that the questions have a word count of 437\n",
        "\n",
        "import io\n",
        "from nbformat import current\n",
        "\n",
        "filepath=\"/content/drive/MyDrive/Colab Notebooks\"\n",
        "filepath=\"/content/drive/MyDrive/Colab Notebooks/Qusai's_NLassignment2021.ipynb\"\n",
        "question_count=437\n",
        "\n",
        "with io.open(filepath, 'r', encoding='utf-8') as f:\n",
        "    nb = current.read(f, 'json')\n",
        "\n",
        "word_count = 0\n",
        "for cell in nb.worksheets[0].cells:\n",
        "    if cell.cell_type == \"markdown\":\n",
        "        word_count += len(cell['source'].replace('#', '').lstrip().split(' '))\n",
        "print(\"Submission length is {}\".format(word_count-question_count))"
      ],
      "execution_count": 24,
      "outputs": [
        {
          "output_type": "stream",
          "name": "stderr",
          "text": [
            "/usr/local/lib/python3.7/dist-packages/nbformat/current.py:19: UserWarning: nbformat.current is deprecated.\n",
            "\n",
            "- use nbformat for read/write/validate public API\n",
            "- use nbformat.vX directly to composing notebooks of a particular version\n",
            "\n",
            "  \"\"\")\n"
          ]
        },
        {
          "output_type": "stream",
          "name": "stdout",
          "text": [
            "Submission length is 1295\n"
          ]
        }
      ]
    },
    {
      "cell_type": "code",
      "metadata": {
        "id": "ByIMrISm_lfZ",
        "colab": {
          "base_uri": "https://localhost:8080/"
        },
        "outputId": "72dadf43-17df-43df-bd30-5c787d5c6c29"
      },
      "source": [
        "from google.colab import drive\n",
        "drive.mount('/content/drive')"
      ],
      "execution_count": 25,
      "outputs": [
        {
          "output_type": "stream",
          "name": "stdout",
          "text": [
            "Drive already mounted at /content/drive; to attempt to forcibly remount, call drive.mount(\"/content/drive\", force_remount=True).\n"
          ]
        }
      ]
    }
  ]
}